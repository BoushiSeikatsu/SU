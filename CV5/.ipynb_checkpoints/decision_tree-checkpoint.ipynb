{
 "cells": [
  {
   "cell_type": "code",
   "execution_count": 1,
   "id": "275b020c-21e2-40dc-ba90-5fe9ee9ed023",
   "metadata": {
    "tags": []
   },
   "outputs": [],
   "source": [
    "import pandas as pd\n",
    "import numpy as np"
   ]
  },
  {
   "cell_type": "code",
   "execution_count": 7,
   "id": "a28b9a8e-75e9-42d0-bbce-57eb26269e7f",
   "metadata": {
    "tags": []
   },
   "outputs": [],
   "source": [
    "df = pd.read_csv('./iris.csv', sep=';')"
   ]
  },
  {
   "cell_type": "code",
   "execution_count": 3,
   "id": "406a1cad-33b2-45bb-ac58-cb7b5e678702",
   "metadata": {
    "tags": []
   },
   "outputs": [],
   "source": [
    "# What is gonna be needed for decision tree algorithm\n",
    "# Evaluate entropy for every feature and values for it\n",
    "# After you pick best score, you branch out into 2 branches\n",
    "# You stop at some n level"
   ]
  },
  {
   "cell_type": "code",
   "execution_count": 58,
   "id": "841cf073-13fa-479f-8450-3a72d78646b7",
   "metadata": {
    "tags": []
   },
   "outputs": [],
   "source": [
    "def evaluateFeature(df, feature):\n",
    "    focusDf = df.loc[:,[feature, \"species\"]] # For now label name is hard coded, but we could have label feature parameter\n",
    "    minVal = focusDf[feature].min()\n",
    "    maxVal = focusDf[feature].max()\n",
    "    bestGini = 1\n",
    "    bestSplitVal = 0\n",
    "    step = (maxVal - minVal)/15 # Evaluate 15 different values for split condition\n",
    "    for i in range(1, 15): # We dont care about min and max split, in my opinion\n",
    "        currentSplit = minVal + step * i\n",
    "        leftSplit = focusDf.loc[(focusDf[feature] <= currentSplit)]\n",
    "        rightSplit = focusDf.loc[(focusDf[feature] > currentSplit)]\n",
    "        giniIndexLeft = 1\n",
    "        giniIndexRight = 1\n",
    "        #for left split\n",
    "        for value in leftSplit[\"species\"].unique():\n",
    "            #print(leftSplit.loc[(leftSplit[\"species\"] == value)][\"species\"])\n",
    "            classCount = leftSplit.loc[(leftSplit[\"species\"] == value)][\"species\"].count()\n",
    "            totalCount = len(leftSplit)\n",
    "            giniIndexLeft -= pow(classCount/totalCount,2) # gini calculation for left\n",
    "        #for right split\n",
    "        for value in rightSplit[\"species\"].unique():\n",
    "            classCount = rightSplit.loc[(rightSplit[\"species\"] == value)][\"species\"].count()\n",
    "            totalCount = len(rightSplit)\n",
    "            giniIndexRight -= pow(classCount/totalCount,2) # gini calculation for right\n",
    "        giniIndex = (giniIndexLeft + giniIndexRight)/2 # Get average of gini index\n",
    "        print(giniIndex)\n",
    "        if giniIndex < bestGini:\n",
    "            bestSplitVal = currentSplit\n",
    "            bestGini = giniIndex\n",
    "    print(f\"Gini: {bestGini} feature: {feature} split: {bestSplitVal}\")\n",
    "    return (feature, bestSplitVal)\n",
    "def branch(df, k, n):\n",
    "    if k == n:\n",
    "        # Here comes code to decide on what class is gonna be predicted\n",
    "        return 0 # PLACEHOLDER\n",
    "    bestFeature = evaluateFeature(df, df.columns[0])\n",
    "    for col in df.columns[1:-1]: # Exclude first feature and last feature which is label\n",
    "        result = evaluateFeature(df, col)\n",
    "        if result[1] < bestFeature[1]:\n",
    "            bestFeature = result\n",
    "    new_df1 = df.loc[(df[bestFeature[0]] <= bestFeature[1])]\n",
    "    new_df2 = df.loc[(df[bestFeature[0]] > bestFeature[1])]\n",
    "    branch(new_df1, k + 1, n)\n",
    "    branch(new_df2, k + 1, n)\n",
    "    # TODO: Same as for decision tree\n",
    "def DecisionTree(df, n_levels = 3):\n",
    "    # Get first feature and score\n",
    "    k = 0\n",
    "    bestFeature = evaluateFeature(df, df.columns[0])\n",
    "    for col in df.columns[1:-1]: # Exclude first feature and last feature which is label\n",
    "        result = evaluateFeature(df, col)\n",
    "        if result[1] < bestFeature[1]:\n",
    "            bestFeature = result\n",
    "    #Split based on best feature into 2 new branches\n",
    "    new_df1 = df.loc[(df[bestFeature[0]] <= bestFeature[1])]\n",
    "    new_df2 = df.loc[(df[bestFeature[0]] > bestFeature[1])]\n",
    "    branch(new_df1, k + 1, n_levels)\n",
    "    branch(new_df2, k + 1, n_levels)\n",
    "    # TODO: Now its just important to think of a way on how to save each condition used for branching"
   ]
  },
  {
   "cell_type": "code",
   "execution_count": 19,
   "id": "c2313d5c-364e-449d-9414-4fd9ac1ce6a3",
   "metadata": {
    "tags": []
   },
   "outputs": [],
   "source": [
    "col = df.columns[0]\n",
    "test = df.loc[:,[col, \"species\"]]"
   ]
  },
  {
   "cell_type": "code",
   "execution_count": 18,
   "id": "983184b5-e26c-475e-a255-77e35b2b1466",
   "metadata": {
    "tags": []
   },
   "outputs": [
    {
     "data": {
      "text/plain": [
       "Index(['sepal_width', 'petal_length', 'petal_width', 'species'], dtype='object')"
      ]
     },
     "execution_count": 18,
     "metadata": {},
     "output_type": "execute_result"
    }
   ],
   "source": [
    "df.columns[1:]"
   ]
  },
  {
   "cell_type": "code",
   "execution_count": 29,
   "id": "35f3ce15-541b-4d7e-b0a8-9377eb680920",
   "metadata": {
    "tags": []
   },
   "outputs": [
    {
     "data": {
      "text/html": [
       "<div>\n",
       "<style scoped>\n",
       "    .dataframe tbody tr th:only-of-type {\n",
       "        vertical-align: middle;\n",
       "    }\n",
       "\n",
       "    .dataframe tbody tr th {\n",
       "        vertical-align: top;\n",
       "    }\n",
       "\n",
       "    .dataframe thead th {\n",
       "        text-align: right;\n",
       "    }\n",
       "</style>\n",
       "<table border=\"1\" class=\"dataframe\">\n",
       "  <thead>\n",
       "    <tr style=\"text-align: right;\">\n",
       "      <th></th>\n",
       "      <th>sepal_length</th>\n",
       "      <th>species</th>\n",
       "    </tr>\n",
       "  </thead>\n",
       "  <tbody>\n",
       "    <tr>\n",
       "      <th>0</th>\n",
       "      <td>5.1</td>\n",
       "      <td>0</td>\n",
       "    </tr>\n",
       "    <tr>\n",
       "      <th>1</th>\n",
       "      <td>4.9</td>\n",
       "      <td>0</td>\n",
       "    </tr>\n",
       "    <tr>\n",
       "      <th>2</th>\n",
       "      <td>4.7</td>\n",
       "      <td>0</td>\n",
       "    </tr>\n",
       "    <tr>\n",
       "      <th>3</th>\n",
       "      <td>4.6</td>\n",
       "      <td>0</td>\n",
       "    </tr>\n",
       "    <tr>\n",
       "      <th>4</th>\n",
       "      <td>5.0</td>\n",
       "      <td>0</td>\n",
       "    </tr>\n",
       "    <tr>\n",
       "      <th>...</th>\n",
       "      <td>...</td>\n",
       "      <td>...</td>\n",
       "    </tr>\n",
       "    <tr>\n",
       "      <th>145</th>\n",
       "      <td>6.7</td>\n",
       "      <td>2</td>\n",
       "    </tr>\n",
       "    <tr>\n",
       "      <th>146</th>\n",
       "      <td>6.3</td>\n",
       "      <td>2</td>\n",
       "    </tr>\n",
       "    <tr>\n",
       "      <th>147</th>\n",
       "      <td>6.5</td>\n",
       "      <td>2</td>\n",
       "    </tr>\n",
       "    <tr>\n",
       "      <th>148</th>\n",
       "      <td>6.2</td>\n",
       "      <td>2</td>\n",
       "    </tr>\n",
       "    <tr>\n",
       "      <th>149</th>\n",
       "      <td>5.9</td>\n",
       "      <td>2</td>\n",
       "    </tr>\n",
       "  </tbody>\n",
       "</table>\n",
       "<p>150 rows × 2 columns</p>\n",
       "</div>"
      ],
      "text/plain": [
       "     sepal_length  species\n",
       "0             5.1        0\n",
       "1             4.9        0\n",
       "2             4.7        0\n",
       "3             4.6        0\n",
       "4             5.0        0\n",
       "..            ...      ...\n",
       "145           6.7        2\n",
       "146           6.3        2\n",
       "147           6.5        2\n",
       "148           6.2        2\n",
       "149           5.9        2\n",
       "\n",
       "[150 rows x 2 columns]"
      ]
     },
     "execution_count": 29,
     "metadata": {},
     "output_type": "execute_result"
    }
   ],
   "source": [
    "test"
   ]
  },
  {
   "cell_type": "code",
   "execution_count": 41,
   "id": "291195ae-afd1-42cb-b26e-331d3f8dddb4",
   "metadata": {
    "tags": []
   },
   "outputs": [
    {
     "data": {
      "text/plain": [
       "50"
      ]
     },
     "execution_count": 41,
     "metadata": {},
     "output_type": "execute_result"
    }
   ],
   "source": [
    "test.loc[(test[\"species\"] <= 0)][\"species\"].count()"
   ]
  },
  {
   "cell_type": "code",
   "execution_count": 59,
   "id": "0775e5f6-d8cb-4f3d-9797-75dbfa3f634d",
   "metadata": {
    "tags": []
   },
   "outputs": [
    {
     "name": "stdout",
     "output_type": "stream",
     "text": [
      "0.33293697978596903\n",
      "0.3312457947311216\n",
      "0.42938311323972994\n",
      "0.41181153943058707\n",
      "0.42783185731877377\n",
      "0.4752067539949577\n",
      "0.49582649427944714\n",
      "0.49687889343965674\n",
      "0.5111716368967246\n",
      "0.45596153846153853\n",
      "0.40197719959356365\n",
      "0.3312457947311216\n",
      "0.3327546296296296\n",
      "0.33293697978596903\n",
      "Gini: 0.3312457947311216 feature: sepal_length split: 4.78\n"
     ]
    },
    {
     "data": {
      "text/plain": [
       "('sepal_length', 4.78)"
      ]
     },
     "execution_count": 59,
     "metadata": {},
     "output_type": "execute_result"
    }
   ],
   "source": [
    "evaluateFeature(df, 'sepal_length')"
   ]
  },
  {
   "cell_type": "code",
   "execution_count": 60,
   "id": "3f87219a-a8a5-4ce2-b45d-9cfaf81fe767",
   "metadata": {
    "tags": []
   },
   "outputs": [
    {
     "name": "stdout",
     "output_type": "stream",
     "text": [
      "0.3333183189946398\n",
      "0.5360450555445349\n",
      "0.48925397407265936\n",
      "0.5641180083144368\n",
      "0.5696736471817855\n",
      "0.5570041722595187\n",
      "0.544256770678327\n",
      "0.5022045855379189\n",
      "0.4345828609221467\n",
      "0.44620027434842247\n",
      "0.470751942869145\n",
      "0.3330831300431601\n",
      "0.33319450229071224\n",
      "0.3333183189946398\n",
      "Gini: 0.3330831300431601 feature: sepal_width split: 3.9200000000000004\n"
     ]
    },
    {
     "data": {
      "text/plain": [
       "('sepal_width', 3.9200000000000004)"
      ]
     },
     "execution_count": 60,
     "metadata": {},
     "output_type": "execute_result"
    }
   ],
   "source": [
    "evaluateFeature(df, 'sepal_width')"
   ]
  },
  {
   "cell_type": "code",
   "execution_count": 61,
   "id": "594eabba-f2ef-43c7-a2e2-fa67a2c7dd41",
   "metadata": {
    "tags": []
   },
   "outputs": [
    {
     "name": "stdout",
     "output_type": "stream",
     "text": [
      "0.3312457947311216\n",
      "0.2595155709342561\n",
      "0.25\n",
      "0.25\n",
      "0.25\n",
      "0.3031606536556105\n",
      "0.35630910527500825\n",
      "0.4357823871309212\n",
      "0.4220137696158307\n",
      "0.3178452981510273\n",
      "0.31249999999999994\n",
      "0.3285809757184228\n",
      "0.3327546296296296\n",
      "0.3330831300431601\n",
      "Gini: 0.25 feature: petal_length split: 2.18\n"
     ]
    },
    {
     "data": {
      "text/plain": [
       "('petal_length', 2.18)"
      ]
     },
     "execution_count": 61,
     "metadata": {},
     "output_type": "execute_result"
    }
   ],
   "source": [
    "evaluateFeature(df, 'petal_length')"
   ]
  },
  {
   "cell_type": "code",
   "execution_count": 62,
   "id": "b24f17ad-9e1d-454b-a0c1-909cdfdb810b",
   "metadata": {
    "tags": []
   },
   "outputs": [
    {
     "name": "stdout",
     "output_type": "stream",
     "text": [
      "0.30469678953626633\n",
      "0.2595155709342561\n",
      "0.25487697284579947\n",
      "0.25\n",
      "0.25\n",
      "0.35630910527500825\n",
      "0.4197293257713806\n",
      "0.44230312659799836\n",
      "0.3508608038070922\n",
      "0.29354834537644997\n",
      "0.30469678953626633\n",
      "0.3224006448012896\n",
      "0.32788738764203745\n",
      "0.3327546296296296\n",
      "Gini: 0.25 feature: petal_width split: 0.74\n"
     ]
    },
    {
     "data": {
      "text/plain": [
       "('petal_width', 0.74)"
      ]
     },
     "execution_count": 62,
     "metadata": {},
     "output_type": "execute_result"
    }
   ],
   "source": [
    "evaluateFeature(df, 'petal_width')"
   ]
  },
  {
   "cell_type": "code",
   "execution_count": 63,
   "id": "5e99bace-e98e-4743-86be-798264df483c",
   "metadata": {
    "tags": []
   },
   "outputs": [
    {
     "data": {
      "text/html": [
       "<div>\n",
       "<style scoped>\n",
       "    .dataframe tbody tr th:only-of-type {\n",
       "        vertical-align: middle;\n",
       "    }\n",
       "\n",
       "    .dataframe tbody tr th {\n",
       "        vertical-align: top;\n",
       "    }\n",
       "\n",
       "    .dataframe thead th {\n",
       "        text-align: right;\n",
       "    }\n",
       "</style>\n",
       "<table border=\"1\" class=\"dataframe\">\n",
       "  <thead>\n",
       "    <tr style=\"text-align: right;\">\n",
       "      <th></th>\n",
       "      <th>sepal_length</th>\n",
       "      <th>sepal_width</th>\n",
       "      <th>petal_length</th>\n",
       "      <th>petal_width</th>\n",
       "      <th>species</th>\n",
       "    </tr>\n",
       "  </thead>\n",
       "  <tbody>\n",
       "    <tr>\n",
       "      <th>0</th>\n",
       "      <td>5.1</td>\n",
       "      <td>3.5</td>\n",
       "      <td>1.4</td>\n",
       "      <td>0.2</td>\n",
       "      <td>0</td>\n",
       "    </tr>\n",
       "    <tr>\n",
       "      <th>1</th>\n",
       "      <td>4.9</td>\n",
       "      <td>3.0</td>\n",
       "      <td>1.4</td>\n",
       "      <td>0.2</td>\n",
       "      <td>0</td>\n",
       "    </tr>\n",
       "    <tr>\n",
       "      <th>2</th>\n",
       "      <td>4.7</td>\n",
       "      <td>3.2</td>\n",
       "      <td>1.3</td>\n",
       "      <td>0.2</td>\n",
       "      <td>0</td>\n",
       "    </tr>\n",
       "    <tr>\n",
       "      <th>3</th>\n",
       "      <td>4.6</td>\n",
       "      <td>3.1</td>\n",
       "      <td>1.5</td>\n",
       "      <td>0.2</td>\n",
       "      <td>0</td>\n",
       "    </tr>\n",
       "    <tr>\n",
       "      <th>4</th>\n",
       "      <td>5.0</td>\n",
       "      <td>3.6</td>\n",
       "      <td>1.4</td>\n",
       "      <td>0.2</td>\n",
       "      <td>0</td>\n",
       "    </tr>\n",
       "    <tr>\n",
       "      <th>...</th>\n",
       "      <td>...</td>\n",
       "      <td>...</td>\n",
       "      <td>...</td>\n",
       "      <td>...</td>\n",
       "      <td>...</td>\n",
       "    </tr>\n",
       "    <tr>\n",
       "      <th>145</th>\n",
       "      <td>6.7</td>\n",
       "      <td>3.0</td>\n",
       "      <td>5.2</td>\n",
       "      <td>2.3</td>\n",
       "      <td>2</td>\n",
       "    </tr>\n",
       "    <tr>\n",
       "      <th>146</th>\n",
       "      <td>6.3</td>\n",
       "      <td>2.5</td>\n",
       "      <td>5.0</td>\n",
       "      <td>1.9</td>\n",
       "      <td>2</td>\n",
       "    </tr>\n",
       "    <tr>\n",
       "      <th>147</th>\n",
       "      <td>6.5</td>\n",
       "      <td>3.0</td>\n",
       "      <td>5.2</td>\n",
       "      <td>2.0</td>\n",
       "      <td>2</td>\n",
       "    </tr>\n",
       "    <tr>\n",
       "      <th>148</th>\n",
       "      <td>6.2</td>\n",
       "      <td>3.4</td>\n",
       "      <td>5.4</td>\n",
       "      <td>2.3</td>\n",
       "      <td>2</td>\n",
       "    </tr>\n",
       "    <tr>\n",
       "      <th>149</th>\n",
       "      <td>5.9</td>\n",
       "      <td>3.0</td>\n",
       "      <td>5.1</td>\n",
       "      <td>1.8</td>\n",
       "      <td>2</td>\n",
       "    </tr>\n",
       "  </tbody>\n",
       "</table>\n",
       "<p>150 rows × 5 columns</p>\n",
       "</div>"
      ],
      "text/plain": [
       "     sepal_length  sepal_width  petal_length  petal_width  species\n",
       "0             5.1          3.5           1.4          0.2        0\n",
       "1             4.9          3.0           1.4          0.2        0\n",
       "2             4.7          3.2           1.3          0.2        0\n",
       "3             4.6          3.1           1.5          0.2        0\n",
       "4             5.0          3.6           1.4          0.2        0\n",
       "..            ...          ...           ...          ...      ...\n",
       "145           6.7          3.0           5.2          2.3        2\n",
       "146           6.3          2.5           5.0          1.9        2\n",
       "147           6.5          3.0           5.2          2.0        2\n",
       "148           6.2          3.4           5.4          2.3        2\n",
       "149           5.9          3.0           5.1          1.8        2\n",
       "\n",
       "[150 rows x 5 columns]"
      ]
     },
     "execution_count": 63,
     "metadata": {},
     "output_type": "execute_result"
    }
   ],
   "source": [
    "df"
   ]
  },
  {
   "cell_type": "code",
   "execution_count": null,
   "id": "b268e656-2e6a-436d-898c-6d58e6dc10e6",
   "metadata": {},
   "outputs": [],
   "source": []
  }
 ],
 "metadata": {
  "kernelspec": {
   "display_name": "Python 3 (ipykernel)",
   "language": "python",
   "name": "python3"
  },
  "language_info": {
   "codemirror_mode": {
    "name": "ipython",
    "version": 3
   },
   "file_extension": ".py",
   "mimetype": "text/x-python",
   "name": "python",
   "nbconvert_exporter": "python",
   "pygments_lexer": "ipython3",
   "version": "3.10.9"
  }
 },
 "nbformat": 4,
 "nbformat_minor": 5
}
