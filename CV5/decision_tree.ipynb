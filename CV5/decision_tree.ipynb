{
 "cells": [
  {
   "cell_type": "code",
   "execution_count": 2,
   "id": "275b020c-21e2-40dc-ba90-5fe9ee9ed023",
   "metadata": {
    "tags": []
   },
   "outputs": [],
   "source": [
    "import pandas as pd\n",
    "import numpy as np"
   ]
  },
  {
   "cell_type": "code",
   "execution_count": 3,
   "id": "a28b9a8e-75e9-42d0-bbce-57eb26269e7f",
   "metadata": {
    "tags": []
   },
   "outputs": [],
   "source": [
    "df = pd.read_csv('./iris.csv', sep=';')"
   ]
  },
  {
   "cell_type": "code",
   "execution_count": 4,
   "id": "406a1cad-33b2-45bb-ac58-cb7b5e678702",
   "metadata": {
    "tags": []
   },
   "outputs": [
    {
     "data": {
      "text/plain": [
       "100    2\n",
       "101    2\n",
       "102    2\n",
       "103    2\n",
       "104    2\n",
       "105    2\n",
       "106    2\n",
       "107    2\n",
       "108    2\n",
       "109    2\n",
       "110    2\n",
       "111    2\n",
       "112    2\n",
       "113    2\n",
       "114    2\n",
       "115    2\n",
       "116    2\n",
       "117    2\n",
       "118    2\n",
       "119    2\n",
       "120    2\n",
       "121    2\n",
       "122    2\n",
       "123    2\n",
       "124    2\n",
       "125    2\n",
       "126    2\n",
       "127    2\n",
       "128    2\n",
       "129    2\n",
       "130    2\n",
       "131    2\n",
       "132    2\n",
       "133    2\n",
       "134    2\n",
       "135    2\n",
       "136    2\n",
       "137    2\n",
       "138    2\n",
       "139    2\n",
       "140    2\n",
       "141    2\n",
       "142    2\n",
       "143    2\n",
       "144    2\n",
       "145    2\n",
       "146    2\n",
       "147    2\n",
       "148    2\n",
       "149    2\n",
       "Name: species, dtype: int64"
      ]
     },
     "execution_count": 4,
     "metadata": {},
     "output_type": "execute_result"
    }
   ],
   "source": [
    "# What is gonna be needed for decision tree algorithm\n",
    "# Evaluate entropy for every feature and values for it\n",
    "# After you pick best score, you branch out into 2 branches\n",
    "# You stop at some n level\n",
    "Y = df[\"species\"]\n",
    "Y.loc[Y >= 2]"
   ]
  },
  {
   "cell_type": "code",
   "execution_count": 5,
   "id": "841cf073-13fa-479f-8450-3a72d78646b7",
   "metadata": {
    "tags": []
   },
   "outputs": [],
   "source": [
    "# Rule format is (k, (condition))\n",
    "class DecisionTree():\n",
    "    def __init__(self, rootRule):\n",
    "        self.rootRule = rootRule\n",
    "        self.leftBranch = None\n",
    "        self.rightBranch = None\n",
    "class Branch():\n",
    "    def __init__(self, rule):\n",
    "        self.rule = rule\n",
    "        self.leftBranch = None\n",
    "        self.rightBranch = None\n",
    "\n",
    "def evaluateFeature(df, label, feature):\n",
    "    focusDf = df.loc[:,[feature, label]] # For now label name is hard coded, but we could have label feature parameter\n",
    "    minVal = focusDf[feature].min()\n",
    "    maxVal = focusDf[feature].max()\n",
    "    bestGini = 1\n",
    "    bestSplitVal = 0\n",
    "    step = (maxVal - minVal)/15 # Evaluate 15 different values for split condition\n",
    "    for i in range(1, 15): # We dont care about min and max split, in my opinion\n",
    "        currentSplit = minVal + step * i\n",
    "        leftSplit = focusDf.loc[(focusDf[feature] <= currentSplit)]\n",
    "        rightSplit = focusDf.loc[(focusDf[feature] > currentSplit)]\n",
    "        giniIndexLeft = 1\n",
    "        giniIndexRight = 1\n",
    "        #for left split\n",
    "        for value in leftSplit[label].unique():\n",
    "            #print(leftSplit.loc[(leftSplit[\"species\"] == value)][\"species\"])\n",
    "            classCount = leftSplit.loc[(leftSplit[label] == value)][label].count()\n",
    "            totalCount = len(leftSplit)\n",
    "            giniIndexLeft -= pow(classCount/totalCount,2) # gini calculation for left\n",
    "        #for right split\n",
    "        for value in rightSplit[label].unique():\n",
    "            classCount = rightSplit.loc[(rightSplit[label] == value)][label].count()\n",
    "            totalCount = len(rightSplit)\n",
    "            giniIndexRight -= pow(classCount/totalCount,2) # gini calculation for right\n",
    "        giniIndex = (giniIndexLeft + giniIndexRight)/2 # Get average of gini index\n",
    "        #print(giniIndex)\n",
    "        if giniIndex < bestGini:\n",
    "            bestSplitVal = currentSplit\n",
    "            bestGini = giniIndex\n",
    "    #print(f\"Gini: {bestGini} feature: {feature} split: {bestSplitVal}\")\n",
    "    return (feature, bestSplitVal, bestGini)\n",
    "\n",
    "def branch(df, YLabel, k, n, verbose = True):\n",
    "    if verbose:\n",
    "        print(f\"Branch on level {k} has df of size: {len(df)}\")\n",
    "    if k == n:\n",
    "        # Reached bottom level, is not going to branch further\n",
    "        label = df[YLabel].value_counts().index[0] # First index is gonna be the one with highest count in df\n",
    "        thisBranch = Branch((k, ('END', label)))\n",
    "        return thisBranch\n",
    "    giniIndexMain = 1\n",
    "    for value in df[YLabel].unique():\n",
    "        classCount = df.loc[(df[YLabel] == value)][YLabel].count()\n",
    "        totalCount = len(df)\n",
    "        giniIndexMain -= pow(classCount/totalCount,2) # gini calculation for left\n",
    "    if giniIndexMain == 0:\n",
    "        # Branch is pure, no need for further branching\n",
    "        label = df[YLabel].value_counts().index[0] # First index is gonna be the one with highest count in df\n",
    "        thisBranch = Branch((k, ('END', label)))\n",
    "        return thisBranch\n",
    "    bestFeature = evaluateFeature(df, YLabel, df.columns[0])\n",
    "    for col in df.columns[1:-1]: # Exclude first feature and last feature which is label\n",
    "        result = evaluateFeature(df, YLabel, col)\n",
    "        if result[2] < bestFeature[2]:\n",
    "            bestFeature = result\n",
    "    new_df1 = df.loc[(df[bestFeature[0]] <= bestFeature[1])]\n",
    "    new_df2 = df.loc[(df[bestFeature[0]] > bestFeature[1])]\n",
    "    thisBranch = Branch((k,bestFeature))\n",
    "    thisBranch.leftBranch = branch(new_df1, YLabel, k + 1, n, verbose=verbose)\n",
    "    thisBranch.rightBranch = branch(new_df2, YLabel, k + 1, n, verbose=verbose)\n",
    "    return thisBranch\n",
    "\n",
    "def DecisionTree_train(df, YLabel, n_levels = 3, verbose = True):\n",
    "    # Get first feature and score\n",
    "    k = 0\n",
    "    bestFeature = evaluateFeature(df, YLabel, df.columns[0])\n",
    "    for col in df.columns[1:-1]: # Exclude first feature and last feature which is label\n",
    "        result = evaluateFeature(df, YLabel, col)\n",
    "        if result[2] < bestFeature[2]:\n",
    "            bestFeature = result\n",
    "    #Split based on best feature into 2 new branches\n",
    "    new_df1 = df.loc[(df[bestFeature[0]] <= bestFeature[1])]\n",
    "    new_df2 = df.loc[(df[bestFeature[0]] > bestFeature[1])]\n",
    "    tree = DecisionTree((k,bestFeature))\n",
    "    #print(f\"Gini: {bestFeature[2]} feature: {bestFeature[0]} split: {bestFeature[1]}\")\n",
    "    tree.leftBranch = branch(new_df1, YLabel, k + 1, n_levels, verbose=verbose)\n",
    "    tree.rightBranch = branch(new_df2, YLabel, k + 1, n_levels, verbose=verbose)\n",
    "    return tree\n",
    "# Recursive function, takes df, iterates over all rows, returns list of predicted labels\n",
    "def DecisionTree_predict(df, model : DecisionTree):\n",
    "    firstRule = model.rootRule[1] # Get first condition \n",
    "    #print(firstRule)\n",
    "    predictions = []\n",
    "    for row in df.iterrows(): # Iterrows returns pairs of (index, Series)\n",
    "        prediction = -1\n",
    "        if row[1][firstRule[0]] <= firstRule[1]:\n",
    "            prediction = branch_predict(row, model.leftBranch) # Go to left branch\n",
    "        else:\n",
    "            prediction = branch_predict(row, model.rightBranch)# Go to right branch\n",
    "        predictions.append(prediction)\n",
    "    return predictions\n",
    "def branch_predict(row, model : Branch):\n",
    "    rule = model.rule[1]\n",
    "    if rule[0] == 'END':\n",
    "        return rule[1]\n",
    "    if row[1][rule[0]] <= rule[1]:\n",
    "        prediction = branch_predict(row, model.leftBranch) # Go to left branch\n",
    "    else:\n",
    "        prediction = branch_predict(row, model.rightBranch) # Go to right branch\n",
    "    return prediction"
   ]
  },
  {
   "cell_type": "code",
   "execution_count": 6,
   "id": "233aef03",
   "metadata": {},
   "outputs": [
    {
     "data": {
      "text/html": [
       "<div>\n",
       "<style scoped>\n",
       "    .dataframe tbody tr th:only-of-type {\n",
       "        vertical-align: middle;\n",
       "    }\n",
       "\n",
       "    .dataframe tbody tr th {\n",
       "        vertical-align: top;\n",
       "    }\n",
       "\n",
       "    .dataframe thead th {\n",
       "        text-align: right;\n",
       "    }\n",
       "</style>\n",
       "<table border=\"1\" class=\"dataframe\">\n",
       "  <thead>\n",
       "    <tr style=\"text-align: right;\">\n",
       "      <th></th>\n",
       "      <th>sepal_length</th>\n",
       "      <th>sepal_width</th>\n",
       "      <th>petal_length</th>\n",
       "      <th>petal_width</th>\n",
       "      <th>species</th>\n",
       "    </tr>\n",
       "  </thead>\n",
       "  <tbody>\n",
       "    <tr>\n",
       "      <th>7</th>\n",
       "      <td>5.0</td>\n",
       "      <td>3.4</td>\n",
       "      <td>1.5</td>\n",
       "      <td>0.2</td>\n",
       "      <td>0</td>\n",
       "    </tr>\n",
       "    <tr>\n",
       "      <th>18</th>\n",
       "      <td>5.7</td>\n",
       "      <td>3.8</td>\n",
       "      <td>1.7</td>\n",
       "      <td>0.3</td>\n",
       "      <td>0</td>\n",
       "    </tr>\n",
       "    <tr>\n",
       "      <th>22</th>\n",
       "      <td>4.6</td>\n",
       "      <td>3.6</td>\n",
       "      <td>1.0</td>\n",
       "      <td>0.2</td>\n",
       "      <td>0</td>\n",
       "    </tr>\n",
       "    <tr>\n",
       "      <th>24</th>\n",
       "      <td>4.8</td>\n",
       "      <td>3.4</td>\n",
       "      <td>1.9</td>\n",
       "      <td>0.2</td>\n",
       "      <td>0</td>\n",
       "    </tr>\n",
       "    <tr>\n",
       "      <th>26</th>\n",
       "      <td>5.0</td>\n",
       "      <td>3.4</td>\n",
       "      <td>1.6</td>\n",
       "      <td>0.4</td>\n",
       "      <td>0</td>\n",
       "    </tr>\n",
       "    <tr>\n",
       "      <th>29</th>\n",
       "      <td>4.7</td>\n",
       "      <td>3.2</td>\n",
       "      <td>1.6</td>\n",
       "      <td>0.2</td>\n",
       "      <td>0</td>\n",
       "    </tr>\n",
       "    <tr>\n",
       "      <th>36</th>\n",
       "      <td>5.5</td>\n",
       "      <td>3.5</td>\n",
       "      <td>1.3</td>\n",
       "      <td>0.2</td>\n",
       "      <td>0</td>\n",
       "    </tr>\n",
       "    <tr>\n",
       "      <th>43</th>\n",
       "      <td>5.0</td>\n",
       "      <td>3.5</td>\n",
       "      <td>1.6</td>\n",
       "      <td>0.6</td>\n",
       "      <td>0</td>\n",
       "    </tr>\n",
       "    <tr>\n",
       "      <th>46</th>\n",
       "      <td>5.1</td>\n",
       "      <td>3.8</td>\n",
       "      <td>1.6</td>\n",
       "      <td>0.2</td>\n",
       "      <td>0</td>\n",
       "    </tr>\n",
       "    <tr>\n",
       "      <th>47</th>\n",
       "      <td>4.6</td>\n",
       "      <td>3.2</td>\n",
       "      <td>1.4</td>\n",
       "      <td>0.2</td>\n",
       "      <td>0</td>\n",
       "    </tr>\n",
       "    <tr>\n",
       "      <th>56</th>\n",
       "      <td>6.3</td>\n",
       "      <td>3.3</td>\n",
       "      <td>4.7</td>\n",
       "      <td>1.6</td>\n",
       "      <td>1</td>\n",
       "    </tr>\n",
       "    <tr>\n",
       "      <th>66</th>\n",
       "      <td>5.6</td>\n",
       "      <td>3.0</td>\n",
       "      <td>4.5</td>\n",
       "      <td>1.5</td>\n",
       "      <td>1</td>\n",
       "    </tr>\n",
       "    <tr>\n",
       "      <th>68</th>\n",
       "      <td>6.2</td>\n",
       "      <td>2.2</td>\n",
       "      <td>4.5</td>\n",
       "      <td>1.5</td>\n",
       "      <td>1</td>\n",
       "    </tr>\n",
       "    <tr>\n",
       "      <th>73</th>\n",
       "      <td>6.1</td>\n",
       "      <td>2.8</td>\n",
       "      <td>4.7</td>\n",
       "      <td>1.2</td>\n",
       "      <td>1</td>\n",
       "    </tr>\n",
       "    <tr>\n",
       "      <th>83</th>\n",
       "      <td>6.0</td>\n",
       "      <td>2.7</td>\n",
       "      <td>5.1</td>\n",
       "      <td>1.6</td>\n",
       "      <td>1</td>\n",
       "    </tr>\n",
       "    <tr>\n",
       "      <th>84</th>\n",
       "      <td>5.4</td>\n",
       "      <td>3.0</td>\n",
       "      <td>4.5</td>\n",
       "      <td>1.5</td>\n",
       "      <td>1</td>\n",
       "    </tr>\n",
       "    <tr>\n",
       "      <th>90</th>\n",
       "      <td>5.5</td>\n",
       "      <td>2.6</td>\n",
       "      <td>4.4</td>\n",
       "      <td>1.2</td>\n",
       "      <td>1</td>\n",
       "    </tr>\n",
       "    <tr>\n",
       "      <th>92</th>\n",
       "      <td>5.8</td>\n",
       "      <td>2.6</td>\n",
       "      <td>4.0</td>\n",
       "      <td>1.2</td>\n",
       "      <td>1</td>\n",
       "    </tr>\n",
       "    <tr>\n",
       "      <th>95</th>\n",
       "      <td>5.7</td>\n",
       "      <td>3.0</td>\n",
       "      <td>4.2</td>\n",
       "      <td>1.2</td>\n",
       "      <td>1</td>\n",
       "    </tr>\n",
       "    <tr>\n",
       "      <th>98</th>\n",
       "      <td>5.1</td>\n",
       "      <td>2.5</td>\n",
       "      <td>3.0</td>\n",
       "      <td>1.1</td>\n",
       "      <td>1</td>\n",
       "    </tr>\n",
       "    <tr>\n",
       "      <th>102</th>\n",
       "      <td>7.1</td>\n",
       "      <td>3.0</td>\n",
       "      <td>5.9</td>\n",
       "      <td>2.1</td>\n",
       "      <td>2</td>\n",
       "    </tr>\n",
       "    <tr>\n",
       "      <th>109</th>\n",
       "      <td>7.2</td>\n",
       "      <td>3.6</td>\n",
       "      <td>6.1</td>\n",
       "      <td>2.5</td>\n",
       "      <td>2</td>\n",
       "    </tr>\n",
       "    <tr>\n",
       "      <th>120</th>\n",
       "      <td>6.9</td>\n",
       "      <td>3.2</td>\n",
       "      <td>5.7</td>\n",
       "      <td>2.3</td>\n",
       "      <td>2</td>\n",
       "    </tr>\n",
       "    <tr>\n",
       "      <th>121</th>\n",
       "      <td>5.6</td>\n",
       "      <td>2.8</td>\n",
       "      <td>4.9</td>\n",
       "      <td>2.0</td>\n",
       "      <td>2</td>\n",
       "    </tr>\n",
       "    <tr>\n",
       "      <th>127</th>\n",
       "      <td>6.1</td>\n",
       "      <td>3.0</td>\n",
       "      <td>4.9</td>\n",
       "      <td>1.8</td>\n",
       "      <td>2</td>\n",
       "    </tr>\n",
       "    <tr>\n",
       "      <th>134</th>\n",
       "      <td>6.1</td>\n",
       "      <td>2.6</td>\n",
       "      <td>5.6</td>\n",
       "      <td>1.4</td>\n",
       "      <td>2</td>\n",
       "    </tr>\n",
       "    <tr>\n",
       "      <th>136</th>\n",
       "      <td>6.3</td>\n",
       "      <td>3.4</td>\n",
       "      <td>5.6</td>\n",
       "      <td>2.4</td>\n",
       "      <td>2</td>\n",
       "    </tr>\n",
       "    <tr>\n",
       "      <th>140</th>\n",
       "      <td>6.7</td>\n",
       "      <td>3.1</td>\n",
       "      <td>5.6</td>\n",
       "      <td>2.4</td>\n",
       "      <td>2</td>\n",
       "    </tr>\n",
       "    <tr>\n",
       "      <th>143</th>\n",
       "      <td>6.8</td>\n",
       "      <td>3.2</td>\n",
       "      <td>5.9</td>\n",
       "      <td>2.3</td>\n",
       "      <td>2</td>\n",
       "    </tr>\n",
       "    <tr>\n",
       "      <th>149</th>\n",
       "      <td>5.9</td>\n",
       "      <td>3.0</td>\n",
       "      <td>5.1</td>\n",
       "      <td>1.8</td>\n",
       "      <td>2</td>\n",
       "    </tr>\n",
       "  </tbody>\n",
       "</table>\n",
       "</div>"
      ],
      "text/plain": [
       "     sepal_length  sepal_width  petal_length  petal_width  species\n",
       "7             5.0          3.4           1.5          0.2        0\n",
       "18            5.7          3.8           1.7          0.3        0\n",
       "22            4.6          3.6           1.0          0.2        0\n",
       "24            4.8          3.4           1.9          0.2        0\n",
       "26            5.0          3.4           1.6          0.4        0\n",
       "29            4.7          3.2           1.6          0.2        0\n",
       "36            5.5          3.5           1.3          0.2        0\n",
       "43            5.0          3.5           1.6          0.6        0\n",
       "46            5.1          3.8           1.6          0.2        0\n",
       "47            4.6          3.2           1.4          0.2        0\n",
       "56            6.3          3.3           4.7          1.6        1\n",
       "66            5.6          3.0           4.5          1.5        1\n",
       "68            6.2          2.2           4.5          1.5        1\n",
       "73            6.1          2.8           4.7          1.2        1\n",
       "83            6.0          2.7           5.1          1.6        1\n",
       "84            5.4          3.0           4.5          1.5        1\n",
       "90            5.5          2.6           4.4          1.2        1\n",
       "92            5.8          2.6           4.0          1.2        1\n",
       "95            5.7          3.0           4.2          1.2        1\n",
       "98            5.1          2.5           3.0          1.1        1\n",
       "102           7.1          3.0           5.9          2.1        2\n",
       "109           7.2          3.6           6.1          2.5        2\n",
       "120           6.9          3.2           5.7          2.3        2\n",
       "121           5.6          2.8           4.9          2.0        2\n",
       "127           6.1          3.0           4.9          1.8        2\n",
       "134           6.1          2.6           5.6          1.4        2\n",
       "136           6.3          3.4           5.6          2.4        2\n",
       "140           6.7          3.1           5.6          2.4        2\n",
       "143           6.8          3.2           5.9          2.3        2\n",
       "149           5.9          3.0           5.1          1.8        2"
      ]
     },
     "execution_count": 6,
     "metadata": {},
     "output_type": "execute_result"
    }
   ],
   "source": [
    "#Split df\n",
    "train_X = df.sample(frac = 0.8)\n",
    "test_X = df.drop(train_X.index)\n",
    "test_X"
   ]
  },
  {
   "cell_type": "code",
   "execution_count": 7,
   "id": "29208cd5",
   "metadata": {},
   "outputs": [
    {
     "name": "stdout",
     "output_type": "stream",
     "text": [
      "Branch on level 1 has df of size: 40\n",
      "Branch on level 1 has df of size: 80\n",
      "Branch on level 2 has df of size: 43\n",
      "Branch on level 3 has df of size: 1\n",
      "Branch on level 3 has df of size: 42\n",
      "Branch on level 2 has df of size: 37\n",
      "Branch on level 3 has df of size: 36\n",
      "Branch on level 3 has df of size: 1\n"
     ]
    },
    {
     "data": {
      "text/plain": [
       "<__main__.DecisionTree at 0x15c571eb940>"
      ]
     },
     "execution_count": 7,
     "metadata": {},
     "output_type": "execute_result"
    }
   ],
   "source": [
    "# Train the model\n",
    "model = DecisionTree_train(train_X, \"species\")\n",
    "model"
   ]
  },
  {
   "cell_type": "code",
   "execution_count": 12,
   "id": "c48373a8",
   "metadata": {},
   "outputs": [
    {
     "data": {
      "text/plain": [
       "{0, 1, 2}"
      ]
     },
     "execution_count": 12,
     "metadata": {},
     "output_type": "execute_result"
    }
   ],
   "source": [
    "# Predict\n",
    "predictions = DecisionTree_predict(test_X, model)\n",
    "set(predictions)"
   ]
  },
  {
   "cell_type": "code",
   "execution_count": 13,
   "id": "7ec6ae1f",
   "metadata": {},
   "outputs": [
    {
     "data": {
      "text/plain": [
       "0.9"
      ]
     },
     "execution_count": 13,
     "metadata": {},
     "output_type": "execute_result"
    }
   ],
   "source": [
    "# Evaluate\n",
    "import sklearn.metrics\n",
    "sklearn.metrics.accuracy_score(test_X.species, predictions)"
   ]
  },
  {
   "cell_type": "code",
   "execution_count": 14,
   "id": "0775e5f6-d8cb-4f3d-9797-75dbfa3f634d",
   "metadata": {
    "tags": []
   },
   "outputs": [
    {
     "data": {
      "text/plain": [
       "('sepal_length', 4.78, 0.3312457947311216)"
      ]
     },
     "execution_count": 14,
     "metadata": {},
     "output_type": "execute_result"
    }
   ],
   "source": [
    "evaluateFeature(df, \"species\", 'sepal_length')"
   ]
  },
  {
   "cell_type": "code",
   "execution_count": 15,
   "id": "3f87219a-a8a5-4ce2-b45d-9cfaf81fe767",
   "metadata": {
    "tags": []
   },
   "outputs": [
    {
     "data": {
      "text/plain": [
       "('sepal_width', 3.9200000000000004, 0.3330831300431601)"
      ]
     },
     "execution_count": 15,
     "metadata": {},
     "output_type": "execute_result"
    }
   ],
   "source": [
    "evaluateFeature(df, \"species\", 'sepal_width')"
   ]
  },
  {
   "cell_type": "code",
   "execution_count": 16,
   "id": "594eabba-f2ef-43c7-a2e2-fa67a2c7dd41",
   "metadata": {
    "tags": []
   },
   "outputs": [
    {
     "data": {
      "text/plain": [
       "('petal_length', 2.18, 0.25)"
      ]
     },
     "execution_count": 16,
     "metadata": {},
     "output_type": "execute_result"
    }
   ],
   "source": [
    "evaluateFeature(df, \"species\", 'petal_length')"
   ]
  },
  {
   "cell_type": "code",
   "execution_count": 17,
   "id": "b24f17ad-9e1d-454b-a0c1-909cdfdb810b",
   "metadata": {
    "tags": []
   },
   "outputs": [
    {
     "data": {
      "text/plain": [
       "('petal_width', 0.74, 0.25)"
      ]
     },
     "execution_count": 17,
     "metadata": {},
     "output_type": "execute_result"
    }
   ],
   "source": [
    "evaluateFeature(df, \"species\", 'petal_width')"
   ]
  },
  {
   "cell_type": "code",
   "execution_count": 18,
   "id": "5e99bace-e98e-4743-86be-798264df483c",
   "metadata": {
    "tags": []
   },
   "outputs": [],
   "source": [
    "df = pd.read_csv(\"./titanic_preprocessed.csv\", sep=\",\", index_col='PassengerId')"
   ]
  },
  {
   "cell_type": "code",
   "execution_count": 19,
   "id": "b268e656-2e6a-436d-898c-6d58e6dc10e6",
   "metadata": {},
   "outputs": [],
   "source": [
    "df = df[[c for c in df if c not in ['Survived']] + ['Survived']]"
   ]
  },
  {
   "cell_type": "code",
   "execution_count": 20,
   "id": "c24e4910",
   "metadata": {},
   "outputs": [
    {
     "data": {
      "text/plain": [
       "Index(['Pclass', 'Sex', 'Age', 'SibSp', 'Parch', 'Fare', 'Cabin', 'Embarked_C',\n",
       "       'Embarked_Q', 'Embarked_S', 'Survived'],\n",
       "      dtype='object')"
      ]
     },
     "execution_count": 20,
     "metadata": {},
     "output_type": "execute_result"
    }
   ],
   "source": [
    "df.columns"
   ]
  },
  {
   "cell_type": "code",
   "execution_count": 21,
   "id": "b113001b",
   "metadata": {},
   "outputs": [
    {
     "data": {
      "text/html": [
       "<div>\n",
       "<style scoped>\n",
       "    .dataframe tbody tr th:only-of-type {\n",
       "        vertical-align: middle;\n",
       "    }\n",
       "\n",
       "    .dataframe tbody tr th {\n",
       "        vertical-align: top;\n",
       "    }\n",
       "\n",
       "    .dataframe thead th {\n",
       "        text-align: right;\n",
       "    }\n",
       "</style>\n",
       "<table border=\"1\" class=\"dataframe\">\n",
       "  <thead>\n",
       "    <tr style=\"text-align: right;\">\n",
       "      <th></th>\n",
       "      <th>Pclass</th>\n",
       "      <th>Sex</th>\n",
       "      <th>Age</th>\n",
       "      <th>SibSp</th>\n",
       "      <th>Parch</th>\n",
       "      <th>Fare</th>\n",
       "      <th>Cabin</th>\n",
       "      <th>Embarked_C</th>\n",
       "      <th>Embarked_Q</th>\n",
       "      <th>Embarked_S</th>\n",
       "      <th>Survived</th>\n",
       "    </tr>\n",
       "    <tr>\n",
       "      <th>PassengerId</th>\n",
       "      <th></th>\n",
       "      <th></th>\n",
       "      <th></th>\n",
       "      <th></th>\n",
       "      <th></th>\n",
       "      <th></th>\n",
       "      <th></th>\n",
       "      <th></th>\n",
       "      <th></th>\n",
       "      <th></th>\n",
       "      <th></th>\n",
       "    </tr>\n",
       "  </thead>\n",
       "  <tbody>\n",
       "    <tr>\n",
       "      <th>6</th>\n",
       "      <td>3</td>\n",
       "      <td>0.0</td>\n",
       "      <td>29.699118</td>\n",
       "      <td>0</td>\n",
       "      <td>0</td>\n",
       "      <td>8.4583</td>\n",
       "      <td>7.0</td>\n",
       "      <td>0</td>\n",
       "      <td>1</td>\n",
       "      <td>0</td>\n",
       "      <td>0</td>\n",
       "    </tr>\n",
       "    <tr>\n",
       "      <th>11</th>\n",
       "      <td>3</td>\n",
       "      <td>1.0</td>\n",
       "      <td>4.000000</td>\n",
       "      <td>1</td>\n",
       "      <td>1</td>\n",
       "      <td>16.7000</td>\n",
       "      <td>6.0</td>\n",
       "      <td>0</td>\n",
       "      <td>0</td>\n",
       "      <td>1</td>\n",
       "      <td>1</td>\n",
       "    </tr>\n",
       "    <tr>\n",
       "      <th>17</th>\n",
       "      <td>3</td>\n",
       "      <td>0.0</td>\n",
       "      <td>2.000000</td>\n",
       "      <td>4</td>\n",
       "      <td>1</td>\n",
       "      <td>29.1250</td>\n",
       "      <td>7.0</td>\n",
       "      <td>0</td>\n",
       "      <td>1</td>\n",
       "      <td>0</td>\n",
       "      <td>0</td>\n",
       "    </tr>\n",
       "    <tr>\n",
       "      <th>18</th>\n",
       "      <td>2</td>\n",
       "      <td>0.0</td>\n",
       "      <td>29.699118</td>\n",
       "      <td>0</td>\n",
       "      <td>0</td>\n",
       "      <td>13.0000</td>\n",
       "      <td>7.0</td>\n",
       "      <td>0</td>\n",
       "      <td>0</td>\n",
       "      <td>1</td>\n",
       "      <td>1</td>\n",
       "    </tr>\n",
       "    <tr>\n",
       "      <th>30</th>\n",
       "      <td>3</td>\n",
       "      <td>0.0</td>\n",
       "      <td>29.699118</td>\n",
       "      <td>0</td>\n",
       "      <td>0</td>\n",
       "      <td>7.8958</td>\n",
       "      <td>7.0</td>\n",
       "      <td>0</td>\n",
       "      <td>0</td>\n",
       "      <td>1</td>\n",
       "      <td>0</td>\n",
       "    </tr>\n",
       "    <tr>\n",
       "      <th>...</th>\n",
       "      <td>...</td>\n",
       "      <td>...</td>\n",
       "      <td>...</td>\n",
       "      <td>...</td>\n",
       "      <td>...</td>\n",
       "      <td>...</td>\n",
       "      <td>...</td>\n",
       "      <td>...</td>\n",
       "      <td>...</td>\n",
       "      <td>...</td>\n",
       "      <td>...</td>\n",
       "    </tr>\n",
       "    <tr>\n",
       "      <th>880</th>\n",
       "      <td>1</td>\n",
       "      <td>1.0</td>\n",
       "      <td>56.000000</td>\n",
       "      <td>0</td>\n",
       "      <td>1</td>\n",
       "      <td>83.1583</td>\n",
       "      <td>2.0</td>\n",
       "      <td>1</td>\n",
       "      <td>0</td>\n",
       "      <td>0</td>\n",
       "      <td>1</td>\n",
       "    </tr>\n",
       "    <tr>\n",
       "      <th>881</th>\n",
       "      <td>2</td>\n",
       "      <td>1.0</td>\n",
       "      <td>25.000000</td>\n",
       "      <td>0</td>\n",
       "      <td>1</td>\n",
       "      <td>26.0000</td>\n",
       "      <td>7.0</td>\n",
       "      <td>0</td>\n",
       "      <td>0</td>\n",
       "      <td>1</td>\n",
       "      <td>1</td>\n",
       "    </tr>\n",
       "    <tr>\n",
       "      <th>887</th>\n",
       "      <td>2</td>\n",
       "      <td>0.0</td>\n",
       "      <td>27.000000</td>\n",
       "      <td>0</td>\n",
       "      <td>0</td>\n",
       "      <td>13.0000</td>\n",
       "      <td>7.0</td>\n",
       "      <td>0</td>\n",
       "      <td>0</td>\n",
       "      <td>1</td>\n",
       "      <td>0</td>\n",
       "    </tr>\n",
       "    <tr>\n",
       "      <th>888</th>\n",
       "      <td>1</td>\n",
       "      <td>1.0</td>\n",
       "      <td>19.000000</td>\n",
       "      <td>0</td>\n",
       "      <td>0</td>\n",
       "      <td>30.0000</td>\n",
       "      <td>1.0</td>\n",
       "      <td>0</td>\n",
       "      <td>0</td>\n",
       "      <td>1</td>\n",
       "      <td>1</td>\n",
       "    </tr>\n",
       "    <tr>\n",
       "      <th>889</th>\n",
       "      <td>3</td>\n",
       "      <td>1.0</td>\n",
       "      <td>29.699118</td>\n",
       "      <td>1</td>\n",
       "      <td>2</td>\n",
       "      <td>23.4500</td>\n",
       "      <td>7.0</td>\n",
       "      <td>0</td>\n",
       "      <td>0</td>\n",
       "      <td>1</td>\n",
       "      <td>0</td>\n",
       "    </tr>\n",
       "  </tbody>\n",
       "</table>\n",
       "<p>178 rows × 11 columns</p>\n",
       "</div>"
      ],
      "text/plain": [
       "             Pclass  Sex        Age  SibSp  Parch     Fare  Cabin  Embarked_C  \\\n",
       "PassengerId                                                                     \n",
       "6                 3  0.0  29.699118      0      0   8.4583    7.0           0   \n",
       "11                3  1.0   4.000000      1      1  16.7000    6.0           0   \n",
       "17                3  0.0   2.000000      4      1  29.1250    7.0           0   \n",
       "18                2  0.0  29.699118      0      0  13.0000    7.0           0   \n",
       "30                3  0.0  29.699118      0      0   7.8958    7.0           0   \n",
       "...             ...  ...        ...    ...    ...      ...    ...         ...   \n",
       "880               1  1.0  56.000000      0      1  83.1583    2.0           1   \n",
       "881               2  1.0  25.000000      0      1  26.0000    7.0           0   \n",
       "887               2  0.0  27.000000      0      0  13.0000    7.0           0   \n",
       "888               1  1.0  19.000000      0      0  30.0000    1.0           0   \n",
       "889               3  1.0  29.699118      1      2  23.4500    7.0           0   \n",
       "\n",
       "             Embarked_Q  Embarked_S  Survived  \n",
       "PassengerId                                    \n",
       "6                     1           0         0  \n",
       "11                    0           1         1  \n",
       "17                    1           0         0  \n",
       "18                    0           1         1  \n",
       "30                    0           1         0  \n",
       "...                 ...         ...       ...  \n",
       "880                   0           0         1  \n",
       "881                   0           1         1  \n",
       "887                   0           1         0  \n",
       "888                   0           1         1  \n",
       "889                   0           1         0  \n",
       "\n",
       "[178 rows x 11 columns]"
      ]
     },
     "execution_count": 21,
     "metadata": {},
     "output_type": "execute_result"
    }
   ],
   "source": [
    "train_X = df.sample(frac = 0.8)\n",
    "test_X = df.drop(train_X.index)\n",
    "test_X"
   ]
  },
  {
   "cell_type": "code",
   "execution_count": 22,
   "id": "427b4745",
   "metadata": {},
   "outputs": [
    {
     "name": "stdout",
     "output_type": "stream",
     "text": [
      "Branch on level 1 has df of size: 709\n",
      "Branch on level 2 has df of size: 708\n",
      "Branch on level 3 has df of size: 707\n",
      "Branch on level 3 has df of size: 1\n",
      "Branch on level 2 has df of size: 1\n",
      "Branch on level 1 has df of size: 2\n"
     ]
    },
    {
     "data": {
      "text/plain": [
       "<__main__.DecisionTree at 0x15c59a903a0>"
      ]
     },
     "execution_count": 22,
     "metadata": {},
     "output_type": "execute_result"
    }
   ],
   "source": [
    "# Train the model\n",
    "model = DecisionTree_train(train_X, \"Survived\")\n",
    "model"
   ]
  },
  {
   "cell_type": "code",
   "execution_count": 23,
   "id": "d863d162",
   "metadata": {},
   "outputs": [
    {
     "data": {
      "text/plain": [
       "{0, 1}"
      ]
     },
     "execution_count": 23,
     "metadata": {},
     "output_type": "execute_result"
    }
   ],
   "source": [
    "predictions = DecisionTree_predict(test_X, model)\n",
    "set(predictions)"
   ]
  },
  {
   "cell_type": "code",
   "execution_count": 24,
   "id": "f6ec9e63",
   "metadata": {},
   "outputs": [
    {
     "data": {
      "text/plain": [
       "0.651685393258427"
      ]
     },
     "execution_count": 24,
     "metadata": {},
     "output_type": "execute_result"
    }
   ],
   "source": [
    "sklearn.metrics.accuracy_score(test_X.Survived, predictions)"
   ]
  },
  {
   "cell_type": "code",
   "execution_count": 26,
   "id": "04412fbb",
   "metadata": {},
   "outputs": [
    {
     "name": "stdout",
     "output_type": "stream",
     "text": [
      "n_levels = 1 accuracy = 0.651685393258427\n",
      "n_levels = 2 accuracy = 0.651685393258427\n",
      "n_levels = 3 accuracy = 0.651685393258427\n",
      "n_levels = 4 accuracy = 0.651685393258427\n",
      "n_levels = 5 accuracy = 0.651685393258427\n",
      "n_levels = 6 accuracy = 0.651685393258427\n",
      "n_levels = 7 accuracy = 0.8202247191011236\n",
      "n_levels = 8 accuracy = 0.8202247191011236\n",
      "n_levels = 9 accuracy = 0.8202247191011236\n",
      "n_levels = 10 accuracy = 0.8202247191011236\n",
      "n_levels = 11 accuracy = 0.8202247191011236\n",
      "n_levels = 12 accuracy = 0.8202247191011236\n",
      "n_levels = 13 accuracy = 0.8202247191011236\n",
      "n_levels = 14 accuracy = 0.8426966292134831\n",
      "n_levels = 15 accuracy = 0.8426966292134831\n"
     ]
    }
   ],
   "source": [
    "for i in range(1, 16):\n",
    "    model = DecisionTree_train(train_X, \"Survived\", n_levels=i, verbose=False)\n",
    "    predictions = DecisionTree_predict(test_X, model)\n",
    "    print(f\"n_levels = {i} accuracy = {sklearn.metrics.accuracy_score(test_X.Survived, predictions)}\")"
   ]
  },
  {
   "cell_type": "code",
   "execution_count": null,
   "id": "69b0c94b",
   "metadata": {},
   "outputs": [
    {
     "ename": "KeyboardInterrupt",
     "evalue": "",
     "output_type": "error",
     "traceback": [
      "\u001b[1;31m---------------------------------------------------------------------------\u001b[0m",
      "\u001b[1;31mKeyboardInterrupt\u001b[0m                         Traceback (most recent call last)",
      "Cell \u001b[1;32mIn[28], line 1\u001b[0m\n\u001b[1;32m----> 1\u001b[0m model \u001b[38;5;241m=\u001b[39m \u001b[43mDecisionTree_train\u001b[49m\u001b[43m(\u001b[49m\u001b[43mtrain_X\u001b[49m\u001b[43m,\u001b[49m\u001b[43m \u001b[49m\u001b[38;5;124;43m\"\u001b[39;49m\u001b[38;5;124;43mSurvived\u001b[39;49m\u001b[38;5;124;43m\"\u001b[39;49m\u001b[43m,\u001b[49m\u001b[43m \u001b[49m\u001b[43mn_levels\u001b[49m\u001b[38;5;241;43m=\u001b[39;49m\u001b[38;5;241;43m40000\u001b[39;49m\u001b[43m,\u001b[49m\u001b[43m \u001b[49m\u001b[43mverbose\u001b[49m\u001b[38;5;241;43m=\u001b[39;49m\u001b[38;5;28;43;01mFalse\u001b[39;49;00m\u001b[43m)\u001b[49m \u001b[38;5;66;03m# No limit on n levels\u001b[39;00m\n\u001b[0;32m      2\u001b[0m predictions \u001b[38;5;241m=\u001b[39m DecisionTree_predict(test_X, model)\n\u001b[0;32m      3\u001b[0m \u001b[38;5;28mprint\u001b[39m(\u001b[38;5;124mf\u001b[39m\u001b[38;5;124m\"\u001b[39m\u001b[38;5;124mn_levels = Not limited, accuracy = \u001b[39m\u001b[38;5;132;01m{\u001b[39;00msklearn\u001b[38;5;241m.\u001b[39mmetrics\u001b[38;5;241m.\u001b[39maccuracy_score(test_X\u001b[38;5;241m.\u001b[39mSurvived, predictions)\u001b[38;5;132;01m}\u001b[39;00m\u001b[38;5;124m\"\u001b[39m)\n",
      "Cell \u001b[1;32mIn[5], line 88\u001b[0m, in \u001b[0;36mDecisionTree_train\u001b[1;34m(df, YLabel, n_levels, verbose)\u001b[0m\n\u001b[0;32m     86\u001b[0m tree \u001b[38;5;241m=\u001b[39m DecisionTree((k,bestFeature))\n\u001b[0;32m     87\u001b[0m \u001b[38;5;66;03m#print(f\"Gini: {bestFeature[2]} feature: {bestFeature[0]} split: {bestFeature[1]}\")\u001b[39;00m\n\u001b[1;32m---> 88\u001b[0m tree\u001b[38;5;241m.\u001b[39mleftBranch \u001b[38;5;241m=\u001b[39m \u001b[43mbranch\u001b[49m\u001b[43m(\u001b[49m\u001b[43mnew_df1\u001b[49m\u001b[43m,\u001b[49m\u001b[43m \u001b[49m\u001b[43mYLabel\u001b[49m\u001b[43m,\u001b[49m\u001b[43m \u001b[49m\u001b[43mk\u001b[49m\u001b[43m \u001b[49m\u001b[38;5;241;43m+\u001b[39;49m\u001b[43m \u001b[49m\u001b[38;5;241;43m1\u001b[39;49m\u001b[43m,\u001b[49m\u001b[43m \u001b[49m\u001b[43mn_levels\u001b[49m\u001b[43m,\u001b[49m\u001b[43m \u001b[49m\u001b[43mverbose\u001b[49m\u001b[38;5;241;43m=\u001b[39;49m\u001b[43mverbose\u001b[49m\u001b[43m)\u001b[49m\n\u001b[0;32m     89\u001b[0m tree\u001b[38;5;241m.\u001b[39mrightBranch \u001b[38;5;241m=\u001b[39m branch(new_df2, YLabel, k \u001b[38;5;241m+\u001b[39m \u001b[38;5;241m1\u001b[39m, n_levels, verbose\u001b[38;5;241m=\u001b[39mverbose)\n\u001b[0;32m     90\u001b[0m \u001b[38;5;28;01mreturn\u001b[39;00m tree\n",
      "Cell \u001b[1;32mIn[5], line 71\u001b[0m, in \u001b[0;36mbranch\u001b[1;34m(df, YLabel, k, n, verbose)\u001b[0m\n\u001b[0;32m     69\u001b[0m new_df2 \u001b[38;5;241m=\u001b[39m df\u001b[38;5;241m.\u001b[39mloc[(df[bestFeature[\u001b[38;5;241m0\u001b[39m]] \u001b[38;5;241m>\u001b[39m bestFeature[\u001b[38;5;241m1\u001b[39m])]\n\u001b[0;32m     70\u001b[0m thisBranch \u001b[38;5;241m=\u001b[39m Branch((k,bestFeature))\n\u001b[1;32m---> 71\u001b[0m thisBranch\u001b[38;5;241m.\u001b[39mleftBranch \u001b[38;5;241m=\u001b[39m \u001b[43mbranch\u001b[49m\u001b[43m(\u001b[49m\u001b[43mnew_df1\u001b[49m\u001b[43m,\u001b[49m\u001b[43m \u001b[49m\u001b[43mYLabel\u001b[49m\u001b[43m,\u001b[49m\u001b[43m \u001b[49m\u001b[43mk\u001b[49m\u001b[43m \u001b[49m\u001b[38;5;241;43m+\u001b[39;49m\u001b[43m \u001b[49m\u001b[38;5;241;43m1\u001b[39;49m\u001b[43m,\u001b[49m\u001b[43m \u001b[49m\u001b[43mn\u001b[49m\u001b[43m,\u001b[49m\u001b[43m \u001b[49m\u001b[43mverbose\u001b[49m\u001b[38;5;241;43m=\u001b[39;49m\u001b[43mverbose\u001b[49m\u001b[43m)\u001b[49m\n\u001b[0;32m     72\u001b[0m thisBranch\u001b[38;5;241m.\u001b[39mrightBranch \u001b[38;5;241m=\u001b[39m branch(new_df2, YLabel, k \u001b[38;5;241m+\u001b[39m \u001b[38;5;241m1\u001b[39m, n, verbose\u001b[38;5;241m=\u001b[39mverbose)\n\u001b[0;32m     73\u001b[0m \u001b[38;5;28;01mreturn\u001b[39;00m thisBranch\n",
      "Cell \u001b[1;32mIn[5], line 71\u001b[0m, in \u001b[0;36mbranch\u001b[1;34m(df, YLabel, k, n, verbose)\u001b[0m\n\u001b[0;32m     69\u001b[0m new_df2 \u001b[38;5;241m=\u001b[39m df\u001b[38;5;241m.\u001b[39mloc[(df[bestFeature[\u001b[38;5;241m0\u001b[39m]] \u001b[38;5;241m>\u001b[39m bestFeature[\u001b[38;5;241m1\u001b[39m])]\n\u001b[0;32m     70\u001b[0m thisBranch \u001b[38;5;241m=\u001b[39m Branch((k,bestFeature))\n\u001b[1;32m---> 71\u001b[0m thisBranch\u001b[38;5;241m.\u001b[39mleftBranch \u001b[38;5;241m=\u001b[39m \u001b[43mbranch\u001b[49m\u001b[43m(\u001b[49m\u001b[43mnew_df1\u001b[49m\u001b[43m,\u001b[49m\u001b[43m \u001b[49m\u001b[43mYLabel\u001b[49m\u001b[43m,\u001b[49m\u001b[43m \u001b[49m\u001b[43mk\u001b[49m\u001b[43m \u001b[49m\u001b[38;5;241;43m+\u001b[39;49m\u001b[43m \u001b[49m\u001b[38;5;241;43m1\u001b[39;49m\u001b[43m,\u001b[49m\u001b[43m \u001b[49m\u001b[43mn\u001b[49m\u001b[43m,\u001b[49m\u001b[43m \u001b[49m\u001b[43mverbose\u001b[49m\u001b[38;5;241;43m=\u001b[39;49m\u001b[43mverbose\u001b[49m\u001b[43m)\u001b[49m\n\u001b[0;32m     72\u001b[0m thisBranch\u001b[38;5;241m.\u001b[39mrightBranch \u001b[38;5;241m=\u001b[39m branch(new_df2, YLabel, k \u001b[38;5;241m+\u001b[39m \u001b[38;5;241m1\u001b[39m, n, verbose\u001b[38;5;241m=\u001b[39mverbose)\n\u001b[0;32m     73\u001b[0m \u001b[38;5;28;01mreturn\u001b[39;00m thisBranch\n",
      "    \u001b[1;31m[... skipping similar frames: branch at line 71 (10 times)]\u001b[0m\n",
      "Cell \u001b[1;32mIn[5], line 72\u001b[0m, in \u001b[0;36mbranch\u001b[1;34m(df, YLabel, k, n, verbose)\u001b[0m\n\u001b[0;32m     70\u001b[0m thisBranch \u001b[38;5;241m=\u001b[39m Branch((k,bestFeature))\n\u001b[0;32m     71\u001b[0m thisBranch\u001b[38;5;241m.\u001b[39mleftBranch \u001b[38;5;241m=\u001b[39m branch(new_df1, YLabel, k \u001b[38;5;241m+\u001b[39m \u001b[38;5;241m1\u001b[39m, n, verbose\u001b[38;5;241m=\u001b[39mverbose)\n\u001b[1;32m---> 72\u001b[0m thisBranch\u001b[38;5;241m.\u001b[39mrightBranch \u001b[38;5;241m=\u001b[39m \u001b[43mbranch\u001b[49m\u001b[43m(\u001b[49m\u001b[43mnew_df2\u001b[49m\u001b[43m,\u001b[49m\u001b[43m \u001b[49m\u001b[43mYLabel\u001b[49m\u001b[43m,\u001b[49m\u001b[43m \u001b[49m\u001b[43mk\u001b[49m\u001b[43m \u001b[49m\u001b[38;5;241;43m+\u001b[39;49m\u001b[43m \u001b[49m\u001b[38;5;241;43m1\u001b[39;49m\u001b[43m,\u001b[49m\u001b[43m \u001b[49m\u001b[43mn\u001b[49m\u001b[43m,\u001b[49m\u001b[43m \u001b[49m\u001b[43mverbose\u001b[49m\u001b[38;5;241;43m=\u001b[39;49m\u001b[43mverbose\u001b[49m\u001b[43m)\u001b[49m\n\u001b[0;32m     73\u001b[0m \u001b[38;5;28;01mreturn\u001b[39;00m thisBranch\n",
      "Cell \u001b[1;32mIn[5], line 72\u001b[0m, in \u001b[0;36mbranch\u001b[1;34m(df, YLabel, k, n, verbose)\u001b[0m\n\u001b[0;32m     70\u001b[0m thisBranch \u001b[38;5;241m=\u001b[39m Branch((k,bestFeature))\n\u001b[0;32m     71\u001b[0m thisBranch\u001b[38;5;241m.\u001b[39mleftBranch \u001b[38;5;241m=\u001b[39m branch(new_df1, YLabel, k \u001b[38;5;241m+\u001b[39m \u001b[38;5;241m1\u001b[39m, n, verbose\u001b[38;5;241m=\u001b[39mverbose)\n\u001b[1;32m---> 72\u001b[0m thisBranch\u001b[38;5;241m.\u001b[39mrightBranch \u001b[38;5;241m=\u001b[39m \u001b[43mbranch\u001b[49m\u001b[43m(\u001b[49m\u001b[43mnew_df2\u001b[49m\u001b[43m,\u001b[49m\u001b[43m \u001b[49m\u001b[43mYLabel\u001b[49m\u001b[43m,\u001b[49m\u001b[43m \u001b[49m\u001b[43mk\u001b[49m\u001b[43m \u001b[49m\u001b[38;5;241;43m+\u001b[39;49m\u001b[43m \u001b[49m\u001b[38;5;241;43m1\u001b[39;49m\u001b[43m,\u001b[49m\u001b[43m \u001b[49m\u001b[43mn\u001b[49m\u001b[43m,\u001b[49m\u001b[43m \u001b[49m\u001b[43mverbose\u001b[49m\u001b[38;5;241;43m=\u001b[39;49m\u001b[43mverbose\u001b[49m\u001b[43m)\u001b[49m\n\u001b[0;32m     73\u001b[0m \u001b[38;5;28;01mreturn\u001b[39;00m thisBranch\n",
      "    \u001b[1;31m[... skipping similar frames: branch at line 71 (19 times), branch at line 72 (7 times)]\u001b[0m\n",
      "Cell \u001b[1;32mIn[5], line 72\u001b[0m, in \u001b[0;36mbranch\u001b[1;34m(df, YLabel, k, n, verbose)\u001b[0m\n\u001b[0;32m     70\u001b[0m thisBranch \u001b[38;5;241m=\u001b[39m Branch((k,bestFeature))\n\u001b[0;32m     71\u001b[0m thisBranch\u001b[38;5;241m.\u001b[39mleftBranch \u001b[38;5;241m=\u001b[39m branch(new_df1, YLabel, k \u001b[38;5;241m+\u001b[39m \u001b[38;5;241m1\u001b[39m, n, verbose\u001b[38;5;241m=\u001b[39mverbose)\n\u001b[1;32m---> 72\u001b[0m thisBranch\u001b[38;5;241m.\u001b[39mrightBranch \u001b[38;5;241m=\u001b[39m \u001b[43mbranch\u001b[49m\u001b[43m(\u001b[49m\u001b[43mnew_df2\u001b[49m\u001b[43m,\u001b[49m\u001b[43m \u001b[49m\u001b[43mYLabel\u001b[49m\u001b[43m,\u001b[49m\u001b[43m \u001b[49m\u001b[43mk\u001b[49m\u001b[43m \u001b[49m\u001b[38;5;241;43m+\u001b[39;49m\u001b[43m \u001b[49m\u001b[38;5;241;43m1\u001b[39;49m\u001b[43m,\u001b[49m\u001b[43m \u001b[49m\u001b[43mn\u001b[49m\u001b[43m,\u001b[49m\u001b[43m \u001b[49m\u001b[43mverbose\u001b[49m\u001b[38;5;241;43m=\u001b[39;49m\u001b[43mverbose\u001b[49m\u001b[43m)\u001b[49m\n\u001b[0;32m     73\u001b[0m \u001b[38;5;28;01mreturn\u001b[39;00m thisBranch\n",
      "    \u001b[1;31m[... skipping similar frames: branch at line 71 (1466 times)]\u001b[0m\n",
      "Cell \u001b[1;32mIn[5], line 71\u001b[0m, in \u001b[0;36mbranch\u001b[1;34m(df, YLabel, k, n, verbose)\u001b[0m\n\u001b[0;32m     69\u001b[0m new_df2 \u001b[38;5;241m=\u001b[39m df\u001b[38;5;241m.\u001b[39mloc[(df[bestFeature[\u001b[38;5;241m0\u001b[39m]] \u001b[38;5;241m>\u001b[39m bestFeature[\u001b[38;5;241m1\u001b[39m])]\n\u001b[0;32m     70\u001b[0m thisBranch \u001b[38;5;241m=\u001b[39m Branch((k,bestFeature))\n\u001b[1;32m---> 71\u001b[0m thisBranch\u001b[38;5;241m.\u001b[39mleftBranch \u001b[38;5;241m=\u001b[39m \u001b[43mbranch\u001b[49m\u001b[43m(\u001b[49m\u001b[43mnew_df1\u001b[49m\u001b[43m,\u001b[49m\u001b[43m \u001b[49m\u001b[43mYLabel\u001b[49m\u001b[43m,\u001b[49m\u001b[43m \u001b[49m\u001b[43mk\u001b[49m\u001b[43m \u001b[49m\u001b[38;5;241;43m+\u001b[39;49m\u001b[43m \u001b[49m\u001b[38;5;241;43m1\u001b[39;49m\u001b[43m,\u001b[49m\u001b[43m \u001b[49m\u001b[43mn\u001b[49m\u001b[43m,\u001b[49m\u001b[43m \u001b[49m\u001b[43mverbose\u001b[49m\u001b[38;5;241;43m=\u001b[39;49m\u001b[43mverbose\u001b[49m\u001b[43m)\u001b[49m\n\u001b[0;32m     72\u001b[0m thisBranch\u001b[38;5;241m.\u001b[39mrightBranch \u001b[38;5;241m=\u001b[39m branch(new_df2, YLabel, k \u001b[38;5;241m+\u001b[39m \u001b[38;5;241m1\u001b[39m, n, verbose\u001b[38;5;241m=\u001b[39mverbose)\n\u001b[0;32m     73\u001b[0m \u001b[38;5;28;01mreturn\u001b[39;00m thisBranch\n",
      "Cell \u001b[1;32mIn[5], line 65\u001b[0m, in \u001b[0;36mbranch\u001b[1;34m(df, YLabel, k, n, verbose)\u001b[0m\n\u001b[0;32m     63\u001b[0m bestFeature \u001b[38;5;241m=\u001b[39m evaluateFeature(df, YLabel, df\u001b[38;5;241m.\u001b[39mcolumns[\u001b[38;5;241m0\u001b[39m])\n\u001b[0;32m     64\u001b[0m \u001b[38;5;28;01mfor\u001b[39;00m col \u001b[38;5;129;01min\u001b[39;00m df\u001b[38;5;241m.\u001b[39mcolumns[\u001b[38;5;241m1\u001b[39m:\u001b[38;5;241m-\u001b[39m\u001b[38;5;241m1\u001b[39m]: \u001b[38;5;66;03m# Exclude first feature and last feature which is label\u001b[39;00m\n\u001b[1;32m---> 65\u001b[0m     result \u001b[38;5;241m=\u001b[39m \u001b[43mevaluateFeature\u001b[49m\u001b[43m(\u001b[49m\u001b[43mdf\u001b[49m\u001b[43m,\u001b[49m\u001b[43m \u001b[49m\u001b[43mYLabel\u001b[49m\u001b[43m,\u001b[49m\u001b[43m \u001b[49m\u001b[43mcol\u001b[49m\u001b[43m)\u001b[49m\n\u001b[0;32m     66\u001b[0m     \u001b[38;5;28;01mif\u001b[39;00m result[\u001b[38;5;241m2\u001b[39m] \u001b[38;5;241m<\u001b[39m bestFeature[\u001b[38;5;241m2\u001b[39m]:\n\u001b[0;32m     67\u001b[0m         bestFeature \u001b[38;5;241m=\u001b[39m result\n",
      "Cell \u001b[1;32mIn[5], line 23\u001b[0m, in \u001b[0;36mevaluateFeature\u001b[1;34m(df, label, feature)\u001b[0m\n\u001b[0;32m     21\u001b[0m currentSplit \u001b[38;5;241m=\u001b[39m minVal \u001b[38;5;241m+\u001b[39m step \u001b[38;5;241m*\u001b[39m i\n\u001b[0;32m     22\u001b[0m leftSplit \u001b[38;5;241m=\u001b[39m focusDf\u001b[38;5;241m.\u001b[39mloc[(focusDf[feature] \u001b[38;5;241m<\u001b[39m\u001b[38;5;241m=\u001b[39m currentSplit)]\n\u001b[1;32m---> 23\u001b[0m rightSplit \u001b[38;5;241m=\u001b[39m \u001b[43mfocusDf\u001b[49m\u001b[38;5;241;43m.\u001b[39;49m\u001b[43mloc\u001b[49m\u001b[43m[\u001b[49m\u001b[43m(\u001b[49m\u001b[43mfocusDf\u001b[49m\u001b[43m[\u001b[49m\u001b[43mfeature\u001b[49m\u001b[43m]\u001b[49m\u001b[43m \u001b[49m\u001b[38;5;241;43m>\u001b[39;49m\u001b[43m \u001b[49m\u001b[43mcurrentSplit\u001b[49m\u001b[43m)\u001b[49m\u001b[43m]\u001b[49m\n\u001b[0;32m     24\u001b[0m giniIndexLeft \u001b[38;5;241m=\u001b[39m \u001b[38;5;241m1\u001b[39m\n\u001b[0;32m     25\u001b[0m giniIndexRight \u001b[38;5;241m=\u001b[39m \u001b[38;5;241m1\u001b[39m\n",
      "File \u001b[1;32me:\\Anaconda\\lib\\site-packages\\pandas\\core\\indexing.py:1103\u001b[0m, in \u001b[0;36m_LocationIndexer.__getitem__\u001b[1;34m(self, key)\u001b[0m\n\u001b[0;32m   1100\u001b[0m axis \u001b[38;5;241m=\u001b[39m \u001b[38;5;28mself\u001b[39m\u001b[38;5;241m.\u001b[39maxis \u001b[38;5;129;01mor\u001b[39;00m \u001b[38;5;241m0\u001b[39m\n\u001b[0;32m   1102\u001b[0m maybe_callable \u001b[38;5;241m=\u001b[39m com\u001b[38;5;241m.\u001b[39mapply_if_callable(key, \u001b[38;5;28mself\u001b[39m\u001b[38;5;241m.\u001b[39mobj)\n\u001b[1;32m-> 1103\u001b[0m \u001b[38;5;28;01mreturn\u001b[39;00m \u001b[38;5;28;43mself\u001b[39;49m\u001b[38;5;241;43m.\u001b[39;49m\u001b[43m_getitem_axis\u001b[49m\u001b[43m(\u001b[49m\u001b[43mmaybe_callable\u001b[49m\u001b[43m,\u001b[49m\u001b[43m \u001b[49m\u001b[43maxis\u001b[49m\u001b[38;5;241;43m=\u001b[39;49m\u001b[43maxis\u001b[49m\u001b[43m)\u001b[49m\n",
      "File \u001b[1;32me:\\Anaconda\\lib\\site-packages\\pandas\\core\\indexing.py:1325\u001b[0m, in \u001b[0;36m_LocIndexer._getitem_axis\u001b[1;34m(self, key, axis)\u001b[0m\n\u001b[0;32m   1323\u001b[0m     \u001b[38;5;28;01mreturn\u001b[39;00m \u001b[38;5;28mself\u001b[39m\u001b[38;5;241m.\u001b[39m_get_slice_axis(key, axis\u001b[38;5;241m=\u001b[39maxis)\n\u001b[0;32m   1324\u001b[0m \u001b[38;5;28;01melif\u001b[39;00m com\u001b[38;5;241m.\u001b[39mis_bool_indexer(key):\n\u001b[1;32m-> 1325\u001b[0m     \u001b[38;5;28;01mreturn\u001b[39;00m \u001b[38;5;28;43mself\u001b[39;49m\u001b[38;5;241;43m.\u001b[39;49m\u001b[43m_getbool_axis\u001b[49m\u001b[43m(\u001b[49m\u001b[43mkey\u001b[49m\u001b[43m,\u001b[49m\u001b[43m \u001b[49m\u001b[43maxis\u001b[49m\u001b[38;5;241;43m=\u001b[39;49m\u001b[43maxis\u001b[49m\u001b[43m)\u001b[49m\n\u001b[0;32m   1326\u001b[0m \u001b[38;5;28;01melif\u001b[39;00m is_list_like_indexer(key):\n\u001b[0;32m   1327\u001b[0m     \u001b[38;5;66;03m# an iterable multi-selection\u001b[39;00m\n\u001b[0;32m   1328\u001b[0m     \u001b[38;5;28;01mif\u001b[39;00m \u001b[38;5;129;01mnot\u001b[39;00m (\u001b[38;5;28misinstance\u001b[39m(key, \u001b[38;5;28mtuple\u001b[39m) \u001b[38;5;129;01mand\u001b[39;00m \u001b[38;5;28misinstance\u001b[39m(labels, MultiIndex)):\n",
      "File \u001b[1;32me:\\Anaconda\\lib\\site-packages\\pandas\\core\\indexing.py:1123\u001b[0m, in \u001b[0;36m_LocationIndexer._getbool_axis\u001b[1;34m(self, key, axis)\u001b[0m\n\u001b[0;32m   1121\u001b[0m key \u001b[38;5;241m=\u001b[39m check_bool_indexer(labels, key)\n\u001b[0;32m   1122\u001b[0m inds \u001b[38;5;241m=\u001b[39m key\u001b[38;5;241m.\u001b[39mnonzero()[\u001b[38;5;241m0\u001b[39m]\n\u001b[1;32m-> 1123\u001b[0m \u001b[38;5;28;01mreturn\u001b[39;00m \u001b[38;5;28;43mself\u001b[39;49m\u001b[38;5;241;43m.\u001b[39;49m\u001b[43mobj\u001b[49m\u001b[38;5;241;43m.\u001b[39;49m\u001b[43m_take_with_is_copy\u001b[49m\u001b[43m(\u001b[49m\u001b[43minds\u001b[49m\u001b[43m,\u001b[49m\u001b[43m \u001b[49m\u001b[43maxis\u001b[49m\u001b[38;5;241;43m=\u001b[39;49m\u001b[43maxis\u001b[49m\u001b[43m)\u001b[49m\n",
      "File \u001b[1;32me:\\Anaconda\\lib\\site-packages\\pandas\\core\\generic.py:3948\u001b[0m, in \u001b[0;36mNDFrame._take_with_is_copy\u001b[1;34m(self, indices, axis)\u001b[0m\n\u001b[0;32m   3940\u001b[0m \u001b[38;5;28;01mdef\u001b[39;00m \u001b[38;5;21m_take_with_is_copy\u001b[39m(\u001b[38;5;28mself\u001b[39m: NDFrameT, indices, axis: Axis \u001b[38;5;241m=\u001b[39m \u001b[38;5;241m0\u001b[39m) \u001b[38;5;241m-\u001b[39m\u001b[38;5;241m>\u001b[39m NDFrameT:\n\u001b[0;32m   3941\u001b[0m     \u001b[38;5;124;03m\"\"\"\u001b[39;00m\n\u001b[0;32m   3942\u001b[0m \u001b[38;5;124;03m    Internal version of the `take` method that sets the `_is_copy`\u001b[39;00m\n\u001b[0;32m   3943\u001b[0m \u001b[38;5;124;03m    attribute to keep track of the parent dataframe (using in indexing\u001b[39;00m\n\u001b[1;32m   (...)\u001b[0m\n\u001b[0;32m   3946\u001b[0m \u001b[38;5;124;03m    See the docstring of `take` for full explanation of the parameters.\u001b[39;00m\n\u001b[0;32m   3947\u001b[0m \u001b[38;5;124;03m    \"\"\"\u001b[39;00m\n\u001b[1;32m-> 3948\u001b[0m     result \u001b[38;5;241m=\u001b[39m \u001b[38;5;28;43mself\u001b[39;49m\u001b[38;5;241;43m.\u001b[39;49m\u001b[43m_take\u001b[49m\u001b[43m(\u001b[49m\u001b[43mindices\u001b[49m\u001b[38;5;241;43m=\u001b[39;49m\u001b[43mindices\u001b[49m\u001b[43m,\u001b[49m\u001b[43m \u001b[49m\u001b[43maxis\u001b[49m\u001b[38;5;241;43m=\u001b[39;49m\u001b[43maxis\u001b[49m\u001b[43m)\u001b[49m\n\u001b[0;32m   3949\u001b[0m     \u001b[38;5;66;03m# Maybe set copy if we didn't actually change the index.\u001b[39;00m\n\u001b[0;32m   3950\u001b[0m     \u001b[38;5;28;01mif\u001b[39;00m \u001b[38;5;129;01mnot\u001b[39;00m result\u001b[38;5;241m.\u001b[39m_get_axis(axis)\u001b[38;5;241m.\u001b[39mequals(\u001b[38;5;28mself\u001b[39m\u001b[38;5;241m.\u001b[39m_get_axis(axis)):\n",
      "File \u001b[1;32me:\\Anaconda\\lib\\site-packages\\pandas\\core\\generic.py:3932\u001b[0m, in \u001b[0;36mNDFrame._take\u001b[1;34m(self, indices, axis, convert_indices)\u001b[0m\n\u001b[0;32m   3924\u001b[0m     \u001b[38;5;28;01mif\u001b[39;00m (\n\u001b[0;32m   3925\u001b[0m         axis \u001b[38;5;241m==\u001b[39m \u001b[38;5;241m0\u001b[39m\n\u001b[0;32m   3926\u001b[0m         \u001b[38;5;129;01mand\u001b[39;00m indices\u001b[38;5;241m.\u001b[39mndim \u001b[38;5;241m==\u001b[39m \u001b[38;5;241m1\u001b[39m\n\u001b[0;32m   3927\u001b[0m         \u001b[38;5;129;01mand\u001b[39;00m using_copy_on_write()\n\u001b[0;32m   3928\u001b[0m         \u001b[38;5;129;01mand\u001b[39;00m is_range_indexer(indices, \u001b[38;5;28mlen\u001b[39m(\u001b[38;5;28mself\u001b[39m))\n\u001b[0;32m   3929\u001b[0m     ):\n\u001b[0;32m   3930\u001b[0m         \u001b[38;5;28;01mreturn\u001b[39;00m \u001b[38;5;28mself\u001b[39m\u001b[38;5;241m.\u001b[39mcopy(deep\u001b[38;5;241m=\u001b[39m\u001b[38;5;28;01mNone\u001b[39;00m)\n\u001b[1;32m-> 3932\u001b[0m new_data \u001b[38;5;241m=\u001b[39m \u001b[38;5;28;43mself\u001b[39;49m\u001b[38;5;241;43m.\u001b[39;49m\u001b[43m_mgr\u001b[49m\u001b[38;5;241;43m.\u001b[39;49m\u001b[43mtake\u001b[49m\u001b[43m(\u001b[49m\n\u001b[0;32m   3933\u001b[0m \u001b[43m    \u001b[49m\u001b[43mindices\u001b[49m\u001b[43m,\u001b[49m\n\u001b[0;32m   3934\u001b[0m \u001b[43m    \u001b[49m\u001b[43maxis\u001b[49m\u001b[38;5;241;43m=\u001b[39;49m\u001b[38;5;28;43mself\u001b[39;49m\u001b[38;5;241;43m.\u001b[39;49m\u001b[43m_get_block_manager_axis\u001b[49m\u001b[43m(\u001b[49m\u001b[43maxis\u001b[49m\u001b[43m)\u001b[49m\u001b[43m,\u001b[49m\n\u001b[0;32m   3935\u001b[0m \u001b[43m    \u001b[49m\u001b[43mverify\u001b[49m\u001b[38;5;241;43m=\u001b[39;49m\u001b[38;5;28;43;01mTrue\u001b[39;49;00m\u001b[43m,\u001b[49m\n\u001b[0;32m   3936\u001b[0m \u001b[43m    \u001b[49m\u001b[43mconvert_indices\u001b[49m\u001b[38;5;241;43m=\u001b[39;49m\u001b[43mconvert_indices\u001b[49m\u001b[43m,\u001b[49m\n\u001b[0;32m   3937\u001b[0m \u001b[43m\u001b[49m\u001b[43m)\u001b[49m\n\u001b[0;32m   3938\u001b[0m \u001b[38;5;28;01mreturn\u001b[39;00m \u001b[38;5;28mself\u001b[39m\u001b[38;5;241m.\u001b[39m_constructor(new_data)\u001b[38;5;241m.\u001b[39m__finalize__(\u001b[38;5;28mself\u001b[39m, method\u001b[38;5;241m=\u001b[39m\u001b[38;5;124m\"\u001b[39m\u001b[38;5;124mtake\u001b[39m\u001b[38;5;124m\"\u001b[39m)\n",
      "File \u001b[1;32me:\\Anaconda\\lib\\site-packages\\pandas\\core\\internals\\managers.py:963\u001b[0m, in \u001b[0;36mBaseBlockManager.take\u001b[1;34m(self, indexer, axis, verify, convert_indices)\u001b[0m\n\u001b[0;32m    960\u001b[0m     indexer \u001b[38;5;241m=\u001b[39m maybe_convert_indices(indexer, n, verify\u001b[38;5;241m=\u001b[39mverify)\n\u001b[0;32m    962\u001b[0m new_labels \u001b[38;5;241m=\u001b[39m \u001b[38;5;28mself\u001b[39m\u001b[38;5;241m.\u001b[39maxes[axis]\u001b[38;5;241m.\u001b[39mtake(indexer)\n\u001b[1;32m--> 963\u001b[0m \u001b[38;5;28;01mreturn\u001b[39;00m \u001b[38;5;28;43mself\u001b[39;49m\u001b[38;5;241;43m.\u001b[39;49m\u001b[43mreindex_indexer\u001b[49m\u001b[43m(\u001b[49m\n\u001b[0;32m    964\u001b[0m \u001b[43m    \u001b[49m\u001b[43mnew_axis\u001b[49m\u001b[38;5;241;43m=\u001b[39;49m\u001b[43mnew_labels\u001b[49m\u001b[43m,\u001b[49m\n\u001b[0;32m    965\u001b[0m \u001b[43m    \u001b[49m\u001b[43mindexer\u001b[49m\u001b[38;5;241;43m=\u001b[39;49m\u001b[43mindexer\u001b[49m\u001b[43m,\u001b[49m\n\u001b[0;32m    966\u001b[0m \u001b[43m    \u001b[49m\u001b[43maxis\u001b[49m\u001b[38;5;241;43m=\u001b[39;49m\u001b[43maxis\u001b[49m\u001b[43m,\u001b[49m\n\u001b[0;32m    967\u001b[0m \u001b[43m    \u001b[49m\u001b[43mallow_dups\u001b[49m\u001b[38;5;241;43m=\u001b[39;49m\u001b[38;5;28;43;01mTrue\u001b[39;49;00m\u001b[43m,\u001b[49m\n\u001b[0;32m    968\u001b[0m \u001b[43m    \u001b[49m\u001b[43mcopy\u001b[49m\u001b[38;5;241;43m=\u001b[39;49m\u001b[38;5;28;43;01mNone\u001b[39;49;00m\u001b[43m,\u001b[49m\n\u001b[0;32m    969\u001b[0m \u001b[43m\u001b[49m\u001b[43m)\u001b[49m\n",
      "File \u001b[1;32me:\\Anaconda\\lib\\site-packages\\pandas\\core\\internals\\managers.py:764\u001b[0m, in \u001b[0;36mBaseBlockManager.reindex_indexer\u001b[1;34m(self, new_axis, indexer, axis, fill_value, allow_dups, copy, only_slice, use_na_proxy)\u001b[0m\n\u001b[0;32m    761\u001b[0m new_mgr \u001b[38;5;241m=\u001b[39m \u001b[38;5;28mtype\u001b[39m(\u001b[38;5;28mself\u001b[39m)\u001b[38;5;241m.\u001b[39mfrom_blocks(new_blocks, new_axes)\n\u001b[0;32m    762\u001b[0m \u001b[38;5;28;01mif\u001b[39;00m axis \u001b[38;5;241m==\u001b[39m \u001b[38;5;241m1\u001b[39m:\n\u001b[0;32m    763\u001b[0m     \u001b[38;5;66;03m# We can avoid the need to rebuild these\u001b[39;00m\n\u001b[1;32m--> 764\u001b[0m     new_mgr\u001b[38;5;241m.\u001b[39m_blknos \u001b[38;5;241m=\u001b[39m \u001b[38;5;28;43mself\u001b[39;49m\u001b[38;5;241;43m.\u001b[39;49m\u001b[43mblknos\u001b[49m\u001b[38;5;241;43m.\u001b[39;49m\u001b[43mcopy\u001b[49m\u001b[43m(\u001b[49m\u001b[43m)\u001b[49m\n\u001b[0;32m    765\u001b[0m     new_mgr\u001b[38;5;241m.\u001b[39m_blklocs \u001b[38;5;241m=\u001b[39m \u001b[38;5;28mself\u001b[39m\u001b[38;5;241m.\u001b[39mblklocs\u001b[38;5;241m.\u001b[39mcopy()\n\u001b[0;32m    766\u001b[0m \u001b[38;5;28;01mreturn\u001b[39;00m new_mgr\n",
      "\u001b[1;31mKeyboardInterrupt\u001b[0m: "
     ]
    }
   ],
   "source": [
    "model = DecisionTree_train(train_X, \"Survived\", n_levels=50, verbose=False) # No limit on n levels\n",
    "predictions = DecisionTree_predict(test_X, model)\n",
    "print(f\"n_levels = Not limited, accuracy = {sklearn.metrics.accuracy_score(test_X.Survived, predictions)}\")"
   ]
  },
  {
   "cell_type": "code",
   "execution_count": null,
   "id": "a9c7fe3e",
   "metadata": {},
   "outputs": [],
   "source": []
  }
 ],
 "metadata": {
  "kernelspec": {
   "display_name": "base",
   "language": "python",
   "name": "python3"
  },
  "language_info": {
   "codemirror_mode": {
    "name": "ipython",
    "version": 3
   },
   "file_extension": ".py",
   "mimetype": "text/x-python",
   "name": "python",
   "nbconvert_exporter": "python",
   "pygments_lexer": "ipython3",
   "version": "3.10.9"
  }
 },
 "nbformat": 4,
 "nbformat_minor": 5
}
