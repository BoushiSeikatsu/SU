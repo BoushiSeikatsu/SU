{
 "cells": [
  {
   "cell_type": "code",
   "execution_count": 2,
   "id": "275b020c-21e2-40dc-ba90-5fe9ee9ed023",
   "metadata": {
    "tags": []
   },
   "outputs": [],
   "source": [
    "import pandas as pd\n",
    "import numpy as np"
   ]
  },
  {
   "cell_type": "code",
   "execution_count": 3,
   "id": "a28b9a8e-75e9-42d0-bbce-57eb26269e7f",
   "metadata": {
    "tags": []
   },
   "outputs": [],
   "source": [
    "df = pd.read_csv('./iris.csv', sep=';')"
   ]
  },
  {
   "cell_type": "code",
   "execution_count": 4,
   "id": "406a1cad-33b2-45bb-ac58-cb7b5e678702",
   "metadata": {
    "tags": []
   },
   "outputs": [
    {
     "data": {
      "text/plain": [
       "100    2\n",
       "101    2\n",
       "102    2\n",
       "103    2\n",
       "104    2\n",
       "105    2\n",
       "106    2\n",
       "107    2\n",
       "108    2\n",
       "109    2\n",
       "110    2\n",
       "111    2\n",
       "112    2\n",
       "113    2\n",
       "114    2\n",
       "115    2\n",
       "116    2\n",
       "117    2\n",
       "118    2\n",
       "119    2\n",
       "120    2\n",
       "121    2\n",
       "122    2\n",
       "123    2\n",
       "124    2\n",
       "125    2\n",
       "126    2\n",
       "127    2\n",
       "128    2\n",
       "129    2\n",
       "130    2\n",
       "131    2\n",
       "132    2\n",
       "133    2\n",
       "134    2\n",
       "135    2\n",
       "136    2\n",
       "137    2\n",
       "138    2\n",
       "139    2\n",
       "140    2\n",
       "141    2\n",
       "142    2\n",
       "143    2\n",
       "144    2\n",
       "145    2\n",
       "146    2\n",
       "147    2\n",
       "148    2\n",
       "149    2\n",
       "Name: species, dtype: int64"
      ]
     },
     "execution_count": 4,
     "metadata": {},
     "output_type": "execute_result"
    }
   ],
   "source": [
    "# What is gonna be needed for decision tree algorithm\n",
    "# Evaluate entropy for every feature and values for it\n",
    "# After you pick best score, you branch out into 2 branches\n",
    "# You stop at some n level\n",
    "Y = df[\"species\"]\n",
    "Y.loc[Y >= 2]"
   ]
  },
  {
   "cell_type": "code",
   "execution_count": 31,
   "id": "841cf073-13fa-479f-8450-3a72d78646b7",
   "metadata": {
    "tags": []
   },
   "outputs": [],
   "source": [
    "# Rule format is (k, (condition))\n",
    "class DecisionTree():\n",
    "    def __init__(self, rootRule):\n",
    "        self.rootRule = rootRule\n",
    "        self.leftBranch = None\n",
    "        self.rightBranch = None\n",
    "class Branch():\n",
    "    def __init__(self, rule):\n",
    "        self.rule = rule\n",
    "        self.leftBranch = None\n",
    "        self.rightBranch = None\n",
    "\n",
    "def evaluateFeature(df, label, feature):\n",
    "    focusDf = df.loc[:,[feature, label]] # For now label name is hard coded, but we could have label feature parameter\n",
    "    minVal = focusDf[feature].min()\n",
    "    maxVal = focusDf[feature].max()\n",
    "    bestGini = 1\n",
    "    bestSplitVal = 0\n",
    "    step = (maxVal - minVal)/15 # Evaluate 15 different values for split condition\n",
    "    for i in range(1, 15): # We dont care about min and max split, in my opinion\n",
    "        currentSplit = minVal + step * i\n",
    "        leftSplit = focusDf.loc[(focusDf[feature] <= currentSplit)]\n",
    "        rightSplit = focusDf.loc[(focusDf[feature] > currentSplit)]\n",
    "        giniIndexLeft = 1\n",
    "        giniIndexRight = 1\n",
    "        #for left split\n",
    "        for value in leftSplit[label].unique():\n",
    "            #print(leftSplit.loc[(leftSplit[\"species\"] == value)][\"species\"])\n",
    "            classCount = leftSplit.loc[(leftSplit[label] == value)][label].count()\n",
    "            totalCount = len(leftSplit)\n",
    "            giniIndexLeft -= pow(classCount/totalCount,2) # gini calculation for left\n",
    "        #for right split\n",
    "        for value in rightSplit[label].unique():\n",
    "            classCount = rightSplit.loc[(rightSplit[label] == value)][label].count()\n",
    "            totalCount = len(rightSplit)\n",
    "            giniIndexRight -= pow(classCount/totalCount,2) # gini calculation for right\n",
    "        giniIndex = (giniIndexLeft + giniIndexRight)/2 # Get average of gini index\n",
    "        #print(giniIndex)\n",
    "        if giniIndex < bestGini:\n",
    "            bestSplitVal = currentSplit\n",
    "            bestGini = giniIndex\n",
    "    #print(f\"Gini: {bestGini} feature: {feature} split: {bestSplitVal}\")\n",
    "    return (feature, bestSplitVal, bestGini)\n",
    "\n",
    "def branch(df, YLabel, k, n, verbose = True):\n",
    "    if verbose:\n",
    "        print(f\"Branch on level {k} has df of size: {len(df)}\")\n",
    "    if k == n:\n",
    "        # Reached bottom level, is not going to branch further\n",
    "        #print(len(df))\n",
    "        #print(df[YLabel].value_counts())\n",
    "        label = df[YLabel].value_counts().index[0] # First index is gonna be the one with highest count in df\n",
    "        thisBranch = Branch((k, ('END', label)))\n",
    "        return thisBranch\n",
    "    giniIndexMain = 1\n",
    "    for value in df[YLabel].unique():\n",
    "        classCount = df.loc[(df[YLabel] == value)][YLabel].count()\n",
    "        totalCount = len(df)\n",
    "        giniIndexMain -= pow(classCount/totalCount,2) # gini calculation for left\n",
    "    if giniIndexMain == 0:\n",
    "        # Branch is pure, no need for further branching\n",
    "        label = df[YLabel].value_counts().index[0] # First index is gonna be the one with highest count in df\n",
    "        thisBranch = Branch((k, ('END', label)))\n",
    "        return thisBranch\n",
    "    bestFeature = evaluateFeature(df, YLabel, df.columns[0])\n",
    "    for col in df.columns[1:-1]: # Exclude first feature and last feature which is label\n",
    "        result = evaluateFeature(df, YLabel, col)\n",
    "        if result[2] < bestFeature[2]:\n",
    "            bestFeature = result\n",
    "    new_df1 = df.loc[(df[bestFeature[0]] <= bestFeature[1])]\n",
    "    new_df2 = df.loc[(df[bestFeature[0]] > bestFeature[1])]\n",
    "    thisBranch = Branch((k,bestFeature))\n",
    "    if len(new_df1) == 0 or len(new_df2) == 0: # Check if new branch isnt empty \n",
    "        # Probably not gonna find better condition so we should end branching\n",
    "        label = df[YLabel].value_counts().index[0] # First index is gonna be the one with highest count in df\n",
    "        thisBranch = Branch((k, ('END', label)))\n",
    "        return thisBranch\n",
    "    thisBranch.leftBranch = branch(new_df1, YLabel, k + 1, n, verbose=verbose)  \n",
    "    thisBranch.rightBranch = branch(new_df2, YLabel, k + 1, n, verbose=verbose)\n",
    "    return thisBranch\n",
    "\n",
    "def DecisionTree_train(df, YLabel, n_levels = 3, verbose = True):\n",
    "    # Get first feature and score\n",
    "    k = 0\n",
    "    bestFeature = evaluateFeature(df, YLabel, df.columns[0])\n",
    "    for col in df.columns[1:-1]: # Exclude first feature and last feature which is label\n",
    "        result = evaluateFeature(df, YLabel, col)\n",
    "        if result[2] < bestFeature[2]:\n",
    "            bestFeature = result\n",
    "    #Split based on best feature into 2 new branches\n",
    "    new_df1 = df.loc[(df[bestFeature[0]] <= bestFeature[1])]\n",
    "    new_df2 = df.loc[(df[bestFeature[0]] > bestFeature[1])]\n",
    "    tree = DecisionTree((k,bestFeature))\n",
    "    #print(f\"Gini: {bestFeature[2]} feature: {bestFeature[0]} split: {bestFeature[1]}\")\n",
    "    tree.leftBranch = branch(new_df1, YLabel, k + 1, n_levels, verbose=verbose)\n",
    "    tree.rightBranch = branch(new_df2, YLabel, k + 1, n_levels, verbose=verbose)\n",
    "    return tree\n",
    "# Recursive function, takes df, iterates over all rows, returns list of predicted labels\n",
    "def DecisionTree_predict(df, model : DecisionTree):\n",
    "    firstRule = model.rootRule[1] # Get first condition \n",
    "    #print(firstRule)\n",
    "    predictions = []\n",
    "    for row in df.iterrows(): # Iterrows returns pairs of (index, Series)\n",
    "        prediction = -1\n",
    "        if row[1][firstRule[0]] <= firstRule[1]:\n",
    "            prediction = branch_predict(row, model.leftBranch) # Go to left branch\n",
    "        else:\n",
    "            prediction = branch_predict(row, model.rightBranch)# Go to right branch\n",
    "        predictions.append(prediction)\n",
    "    return predictions\n",
    "def branch_predict(row, model : Branch):\n",
    "    rule = model.rule[1]\n",
    "    if rule[0] == 'END':\n",
    "        return rule[1]\n",
    "    if row[1][rule[0]] <= rule[1]:\n",
    "        prediction = branch_predict(row, model.leftBranch) # Go to left branch\n",
    "    else:\n",
    "        prediction = branch_predict(row, model.rightBranch) # Go to right branch\n",
    "    return prediction"
   ]
  },
  {
   "cell_type": "code",
   "execution_count": 6,
   "id": "233aef03",
   "metadata": {},
   "outputs": [
    {
     "data": {
      "text/html": [
       "<div>\n",
       "<style scoped>\n",
       "    .dataframe tbody tr th:only-of-type {\n",
       "        vertical-align: middle;\n",
       "    }\n",
       "\n",
       "    .dataframe tbody tr th {\n",
       "        vertical-align: top;\n",
       "    }\n",
       "\n",
       "    .dataframe thead th {\n",
       "        text-align: right;\n",
       "    }\n",
       "</style>\n",
       "<table border=\"1\" class=\"dataframe\">\n",
       "  <thead>\n",
       "    <tr style=\"text-align: right;\">\n",
       "      <th></th>\n",
       "      <th>sepal_length</th>\n",
       "      <th>sepal_width</th>\n",
       "      <th>petal_length</th>\n",
       "      <th>petal_width</th>\n",
       "      <th>species</th>\n",
       "    </tr>\n",
       "  </thead>\n",
       "  <tbody>\n",
       "    <tr>\n",
       "      <th>16</th>\n",
       "      <td>5.4</td>\n",
       "      <td>3.9</td>\n",
       "      <td>1.3</td>\n",
       "      <td>0.4</td>\n",
       "      <td>0</td>\n",
       "    </tr>\n",
       "    <tr>\n",
       "      <th>32</th>\n",
       "      <td>5.2</td>\n",
       "      <td>4.1</td>\n",
       "      <td>1.5</td>\n",
       "      <td>0.1</td>\n",
       "      <td>0</td>\n",
       "    </tr>\n",
       "    <tr>\n",
       "      <th>37</th>\n",
       "      <td>4.9</td>\n",
       "      <td>3.1</td>\n",
       "      <td>1.5</td>\n",
       "      <td>0.1</td>\n",
       "      <td>0</td>\n",
       "    </tr>\n",
       "    <tr>\n",
       "      <th>38</th>\n",
       "      <td>4.4</td>\n",
       "      <td>3.0</td>\n",
       "      <td>1.3</td>\n",
       "      <td>0.2</td>\n",
       "      <td>0</td>\n",
       "    </tr>\n",
       "    <tr>\n",
       "      <th>40</th>\n",
       "      <td>5.0</td>\n",
       "      <td>3.5</td>\n",
       "      <td>1.3</td>\n",
       "      <td>0.3</td>\n",
       "      <td>0</td>\n",
       "    </tr>\n",
       "    <tr>\n",
       "      <th>47</th>\n",
       "      <td>4.6</td>\n",
       "      <td>3.2</td>\n",
       "      <td>1.4</td>\n",
       "      <td>0.2</td>\n",
       "      <td>0</td>\n",
       "    </tr>\n",
       "    <tr>\n",
       "      <th>53</th>\n",
       "      <td>5.5</td>\n",
       "      <td>2.3</td>\n",
       "      <td>4.0</td>\n",
       "      <td>1.3</td>\n",
       "      <td>1</td>\n",
       "    </tr>\n",
       "    <tr>\n",
       "      <th>59</th>\n",
       "      <td>5.2</td>\n",
       "      <td>2.7</td>\n",
       "      <td>3.9</td>\n",
       "      <td>1.4</td>\n",
       "      <td>1</td>\n",
       "    </tr>\n",
       "    <tr>\n",
       "      <th>62</th>\n",
       "      <td>6.0</td>\n",
       "      <td>2.2</td>\n",
       "      <td>4.0</td>\n",
       "      <td>1.0</td>\n",
       "      <td>1</td>\n",
       "    </tr>\n",
       "    <tr>\n",
       "      <th>71</th>\n",
       "      <td>6.1</td>\n",
       "      <td>2.8</td>\n",
       "      <td>4.0</td>\n",
       "      <td>1.3</td>\n",
       "      <td>1</td>\n",
       "    </tr>\n",
       "    <tr>\n",
       "      <th>73</th>\n",
       "      <td>6.1</td>\n",
       "      <td>2.8</td>\n",
       "      <td>4.7</td>\n",
       "      <td>1.2</td>\n",
       "      <td>1</td>\n",
       "    </tr>\n",
       "    <tr>\n",
       "      <th>75</th>\n",
       "      <td>6.6</td>\n",
       "      <td>3.0</td>\n",
       "      <td>4.4</td>\n",
       "      <td>1.4</td>\n",
       "      <td>1</td>\n",
       "    </tr>\n",
       "    <tr>\n",
       "      <th>77</th>\n",
       "      <td>6.7</td>\n",
       "      <td>3.0</td>\n",
       "      <td>5.0</td>\n",
       "      <td>1.7</td>\n",
       "      <td>1</td>\n",
       "    </tr>\n",
       "    <tr>\n",
       "      <th>79</th>\n",
       "      <td>5.7</td>\n",
       "      <td>2.6</td>\n",
       "      <td>3.5</td>\n",
       "      <td>1.0</td>\n",
       "      <td>1</td>\n",
       "    </tr>\n",
       "    <tr>\n",
       "      <th>80</th>\n",
       "      <td>5.5</td>\n",
       "      <td>2.4</td>\n",
       "      <td>3.8</td>\n",
       "      <td>1.1</td>\n",
       "      <td>1</td>\n",
       "    </tr>\n",
       "    <tr>\n",
       "      <th>84</th>\n",
       "      <td>5.4</td>\n",
       "      <td>3.0</td>\n",
       "      <td>4.5</td>\n",
       "      <td>1.5</td>\n",
       "      <td>1</td>\n",
       "    </tr>\n",
       "    <tr>\n",
       "      <th>92</th>\n",
       "      <td>5.8</td>\n",
       "      <td>2.6</td>\n",
       "      <td>4.0</td>\n",
       "      <td>1.2</td>\n",
       "      <td>1</td>\n",
       "    </tr>\n",
       "    <tr>\n",
       "      <th>95</th>\n",
       "      <td>5.7</td>\n",
       "      <td>3.0</td>\n",
       "      <td>4.2</td>\n",
       "      <td>1.2</td>\n",
       "      <td>1</td>\n",
       "    </tr>\n",
       "    <tr>\n",
       "      <th>98</th>\n",
       "      <td>5.1</td>\n",
       "      <td>2.5</td>\n",
       "      <td>3.0</td>\n",
       "      <td>1.1</td>\n",
       "      <td>1</td>\n",
       "    </tr>\n",
       "    <tr>\n",
       "      <th>101</th>\n",
       "      <td>5.8</td>\n",
       "      <td>2.7</td>\n",
       "      <td>5.1</td>\n",
       "      <td>1.9</td>\n",
       "      <td>2</td>\n",
       "    </tr>\n",
       "    <tr>\n",
       "      <th>108</th>\n",
       "      <td>6.7</td>\n",
       "      <td>2.5</td>\n",
       "      <td>5.8</td>\n",
       "      <td>1.8</td>\n",
       "      <td>2</td>\n",
       "    </tr>\n",
       "    <tr>\n",
       "      <th>115</th>\n",
       "      <td>6.4</td>\n",
       "      <td>3.2</td>\n",
       "      <td>5.3</td>\n",
       "      <td>2.3</td>\n",
       "      <td>2</td>\n",
       "    </tr>\n",
       "    <tr>\n",
       "      <th>116</th>\n",
       "      <td>6.5</td>\n",
       "      <td>3.0</td>\n",
       "      <td>5.5</td>\n",
       "      <td>1.8</td>\n",
       "      <td>2</td>\n",
       "    </tr>\n",
       "    <tr>\n",
       "      <th>117</th>\n",
       "      <td>7.7</td>\n",
       "      <td>3.8</td>\n",
       "      <td>6.7</td>\n",
       "      <td>2.2</td>\n",
       "      <td>2</td>\n",
       "    </tr>\n",
       "    <tr>\n",
       "      <th>125</th>\n",
       "      <td>7.2</td>\n",
       "      <td>3.2</td>\n",
       "      <td>6.0</td>\n",
       "      <td>1.8</td>\n",
       "      <td>2</td>\n",
       "    </tr>\n",
       "    <tr>\n",
       "      <th>130</th>\n",
       "      <td>7.4</td>\n",
       "      <td>2.8</td>\n",
       "      <td>6.1</td>\n",
       "      <td>1.9</td>\n",
       "      <td>2</td>\n",
       "    </tr>\n",
       "    <tr>\n",
       "      <th>132</th>\n",
       "      <td>6.4</td>\n",
       "      <td>2.8</td>\n",
       "      <td>5.6</td>\n",
       "      <td>2.2</td>\n",
       "      <td>2</td>\n",
       "    </tr>\n",
       "    <tr>\n",
       "      <th>139</th>\n",
       "      <td>6.9</td>\n",
       "      <td>3.1</td>\n",
       "      <td>5.4</td>\n",
       "      <td>2.1</td>\n",
       "      <td>2</td>\n",
       "    </tr>\n",
       "    <tr>\n",
       "      <th>140</th>\n",
       "      <td>6.7</td>\n",
       "      <td>3.1</td>\n",
       "      <td>5.6</td>\n",
       "      <td>2.4</td>\n",
       "      <td>2</td>\n",
       "    </tr>\n",
       "    <tr>\n",
       "      <th>143</th>\n",
       "      <td>6.8</td>\n",
       "      <td>3.2</td>\n",
       "      <td>5.9</td>\n",
       "      <td>2.3</td>\n",
       "      <td>2</td>\n",
       "    </tr>\n",
       "  </tbody>\n",
       "</table>\n",
       "</div>"
      ],
      "text/plain": [
       "     sepal_length  sepal_width  petal_length  petal_width  species\n",
       "16            5.4          3.9           1.3          0.4        0\n",
       "32            5.2          4.1           1.5          0.1        0\n",
       "37            4.9          3.1           1.5          0.1        0\n",
       "38            4.4          3.0           1.3          0.2        0\n",
       "40            5.0          3.5           1.3          0.3        0\n",
       "47            4.6          3.2           1.4          0.2        0\n",
       "53            5.5          2.3           4.0          1.3        1\n",
       "59            5.2          2.7           3.9          1.4        1\n",
       "62            6.0          2.2           4.0          1.0        1\n",
       "71            6.1          2.8           4.0          1.3        1\n",
       "73            6.1          2.8           4.7          1.2        1\n",
       "75            6.6          3.0           4.4          1.4        1\n",
       "77            6.7          3.0           5.0          1.7        1\n",
       "79            5.7          2.6           3.5          1.0        1\n",
       "80            5.5          2.4           3.8          1.1        1\n",
       "84            5.4          3.0           4.5          1.5        1\n",
       "92            5.8          2.6           4.0          1.2        1\n",
       "95            5.7          3.0           4.2          1.2        1\n",
       "98            5.1          2.5           3.0          1.1        1\n",
       "101           5.8          2.7           5.1          1.9        2\n",
       "108           6.7          2.5           5.8          1.8        2\n",
       "115           6.4          3.2           5.3          2.3        2\n",
       "116           6.5          3.0           5.5          1.8        2\n",
       "117           7.7          3.8           6.7          2.2        2\n",
       "125           7.2          3.2           6.0          1.8        2\n",
       "130           7.4          2.8           6.1          1.9        2\n",
       "132           6.4          2.8           5.6          2.2        2\n",
       "139           6.9          3.1           5.4          2.1        2\n",
       "140           6.7          3.1           5.6          2.4        2\n",
       "143           6.8          3.2           5.9          2.3        2"
      ]
     },
     "execution_count": 6,
     "metadata": {},
     "output_type": "execute_result"
    }
   ],
   "source": [
    "#Split df\n",
    "train_X = df.sample(frac = 0.8)\n",
    "test_X = df.drop(train_X.index)\n",
    "test_X"
   ]
  },
  {
   "cell_type": "code",
   "execution_count": 7,
   "id": "29208cd5",
   "metadata": {},
   "outputs": [
    {
     "name": "stdout",
     "output_type": "stream",
     "text": [
      "Branch on level 1 has df of size: 44\n",
      "Branch on level 1 has df of size: 76\n",
      "Branch on level 2 has df of size: 40\n",
      "Branch on level 3 has df of size: 38\n",
      "Branch on level 3 has df of size: 2\n",
      "Branch on level 2 has df of size: 36\n",
      "Branch on level 3 has df of size: 1\n",
      "Branch on level 3 has df of size: 35\n"
     ]
    },
    {
     "data": {
      "text/plain": [
       "<__main__.DecisionTree at 0x2a63466ea80>"
      ]
     },
     "execution_count": 7,
     "metadata": {},
     "output_type": "execute_result"
    }
   ],
   "source": [
    "# Train the model\n",
    "model = DecisionTree_train(train_X, \"species\")\n",
    "model"
   ]
  },
  {
   "cell_type": "code",
   "execution_count": 8,
   "id": "c48373a8",
   "metadata": {},
   "outputs": [
    {
     "data": {
      "text/plain": [
       "{0, 1, 2}"
      ]
     },
     "execution_count": 8,
     "metadata": {},
     "output_type": "execute_result"
    }
   ],
   "source": [
    "# Predict\n",
    "predictions = DecisionTree_predict(test_X, model)\n",
    "set(predictions)"
   ]
  },
  {
   "cell_type": "code",
   "execution_count": 9,
   "id": "7ec6ae1f",
   "metadata": {},
   "outputs": [
    {
     "data": {
      "text/plain": [
       "0.9666666666666667"
      ]
     },
     "execution_count": 9,
     "metadata": {},
     "output_type": "execute_result"
    }
   ],
   "source": [
    "# Evaluate\n",
    "import sklearn.metrics\n",
    "sklearn.metrics.accuracy_score(test_X.species, predictions)"
   ]
  },
  {
   "cell_type": "code",
   "execution_count": 10,
   "id": "0775e5f6-d8cb-4f3d-9797-75dbfa3f634d",
   "metadata": {
    "tags": []
   },
   "outputs": [
    {
     "data": {
      "text/plain": [
       "('sepal_length', 4.78, 0.3312457947311216)"
      ]
     },
     "execution_count": 10,
     "metadata": {},
     "output_type": "execute_result"
    }
   ],
   "source": [
    "evaluateFeature(df, \"species\", 'sepal_length')"
   ]
  },
  {
   "cell_type": "code",
   "execution_count": 11,
   "id": "3f87219a-a8a5-4ce2-b45d-9cfaf81fe767",
   "metadata": {
    "tags": []
   },
   "outputs": [
    {
     "data": {
      "text/plain": [
       "('sepal_width', 3.9200000000000004, 0.3330831300431601)"
      ]
     },
     "execution_count": 11,
     "metadata": {},
     "output_type": "execute_result"
    }
   ],
   "source": [
    "evaluateFeature(df, \"species\", 'sepal_width')"
   ]
  },
  {
   "cell_type": "code",
   "execution_count": 12,
   "id": "594eabba-f2ef-43c7-a2e2-fa67a2c7dd41",
   "metadata": {
    "tags": []
   },
   "outputs": [
    {
     "data": {
      "text/plain": [
       "('petal_length', 2.18, 0.25)"
      ]
     },
     "execution_count": 12,
     "metadata": {},
     "output_type": "execute_result"
    }
   ],
   "source": [
    "evaluateFeature(df, \"species\", 'petal_length')"
   ]
  },
  {
   "cell_type": "code",
   "execution_count": 13,
   "id": "b24f17ad-9e1d-454b-a0c1-909cdfdb810b",
   "metadata": {
    "tags": []
   },
   "outputs": [
    {
     "data": {
      "text/plain": [
       "('petal_width', 0.74, 0.25)"
      ]
     },
     "execution_count": 13,
     "metadata": {},
     "output_type": "execute_result"
    }
   ],
   "source": [
    "evaluateFeature(df, \"species\", 'petal_width')"
   ]
  },
  {
   "cell_type": "code",
   "execution_count": 14,
   "id": "5e99bace-e98e-4743-86be-798264df483c",
   "metadata": {
    "tags": []
   },
   "outputs": [],
   "source": [
    "df = pd.read_csv(\"./titanic_preprocessed.csv\", sep=\",\", index_col='PassengerId')"
   ]
  },
  {
   "cell_type": "code",
   "execution_count": 15,
   "id": "b268e656-2e6a-436d-898c-6d58e6dc10e6",
   "metadata": {},
   "outputs": [],
   "source": [
    "df = df[[c for c in df if c not in ['Survived']] + ['Survived']]"
   ]
  },
  {
   "cell_type": "code",
   "execution_count": 28,
   "id": "d5850fd5",
   "metadata": {},
   "outputs": [
    {
     "data": {
      "text/plain": [
       "False"
      ]
     },
     "execution_count": 28,
     "metadata": {},
     "output_type": "execute_result"
    }
   ],
   "source": [
    "df.isnull().values.any()"
   ]
  },
  {
   "cell_type": "code",
   "execution_count": 16,
   "id": "c24e4910",
   "metadata": {},
   "outputs": [
    {
     "data": {
      "text/plain": [
       "Index(['Pclass', 'Sex', 'Age', 'SibSp', 'Parch', 'Fare', 'Cabin', 'Embarked_C',\n",
       "       'Embarked_Q', 'Embarked_S', 'Survived'],\n",
       "      dtype='object')"
      ]
     },
     "execution_count": 16,
     "metadata": {},
     "output_type": "execute_result"
    }
   ],
   "source": [
    "df.columns"
   ]
  },
  {
   "cell_type": "code",
   "execution_count": 17,
   "id": "b113001b",
   "metadata": {},
   "outputs": [
    {
     "data": {
      "text/html": [
       "<div>\n",
       "<style scoped>\n",
       "    .dataframe tbody tr th:only-of-type {\n",
       "        vertical-align: middle;\n",
       "    }\n",
       "\n",
       "    .dataframe tbody tr th {\n",
       "        vertical-align: top;\n",
       "    }\n",
       "\n",
       "    .dataframe thead th {\n",
       "        text-align: right;\n",
       "    }\n",
       "</style>\n",
       "<table border=\"1\" class=\"dataframe\">\n",
       "  <thead>\n",
       "    <tr style=\"text-align: right;\">\n",
       "      <th></th>\n",
       "      <th>Pclass</th>\n",
       "      <th>Sex</th>\n",
       "      <th>Age</th>\n",
       "      <th>SibSp</th>\n",
       "      <th>Parch</th>\n",
       "      <th>Fare</th>\n",
       "      <th>Cabin</th>\n",
       "      <th>Embarked_C</th>\n",
       "      <th>Embarked_Q</th>\n",
       "      <th>Embarked_S</th>\n",
       "      <th>Survived</th>\n",
       "    </tr>\n",
       "    <tr>\n",
       "      <th>PassengerId</th>\n",
       "      <th></th>\n",
       "      <th></th>\n",
       "      <th></th>\n",
       "      <th></th>\n",
       "      <th></th>\n",
       "      <th></th>\n",
       "      <th></th>\n",
       "      <th></th>\n",
       "      <th></th>\n",
       "      <th></th>\n",
       "      <th></th>\n",
       "    </tr>\n",
       "  </thead>\n",
       "  <tbody>\n",
       "    <tr>\n",
       "      <th>5</th>\n",
       "      <td>3</td>\n",
       "      <td>0.0</td>\n",
       "      <td>35.0</td>\n",
       "      <td>0</td>\n",
       "      <td>0</td>\n",
       "      <td>8.0500</td>\n",
       "      <td>7.0</td>\n",
       "      <td>0</td>\n",
       "      <td>0</td>\n",
       "      <td>1</td>\n",
       "      <td>0</td>\n",
       "    </tr>\n",
       "    <tr>\n",
       "      <th>13</th>\n",
       "      <td>3</td>\n",
       "      <td>0.0</td>\n",
       "      <td>20.0</td>\n",
       "      <td>0</td>\n",
       "      <td>0</td>\n",
       "      <td>8.0500</td>\n",
       "      <td>7.0</td>\n",
       "      <td>0</td>\n",
       "      <td>0</td>\n",
       "      <td>1</td>\n",
       "      <td>0</td>\n",
       "    </tr>\n",
       "    <tr>\n",
       "      <th>22</th>\n",
       "      <td>2</td>\n",
       "      <td>0.0</td>\n",
       "      <td>34.0</td>\n",
       "      <td>0</td>\n",
       "      <td>0</td>\n",
       "      <td>13.0000</td>\n",
       "      <td>3.0</td>\n",
       "      <td>0</td>\n",
       "      <td>0</td>\n",
       "      <td>1</td>\n",
       "      <td>1</td>\n",
       "    </tr>\n",
       "    <tr>\n",
       "      <th>24</th>\n",
       "      <td>1</td>\n",
       "      <td>0.0</td>\n",
       "      <td>28.0</td>\n",
       "      <td>0</td>\n",
       "      <td>0</td>\n",
       "      <td>35.5000</td>\n",
       "      <td>0.0</td>\n",
       "      <td>0</td>\n",
       "      <td>0</td>\n",
       "      <td>1</td>\n",
       "      <td>1</td>\n",
       "    </tr>\n",
       "    <tr>\n",
       "      <th>31</th>\n",
       "      <td>1</td>\n",
       "      <td>0.0</td>\n",
       "      <td>40.0</td>\n",
       "      <td>0</td>\n",
       "      <td>0</td>\n",
       "      <td>27.7208</td>\n",
       "      <td>7.0</td>\n",
       "      <td>1</td>\n",
       "      <td>0</td>\n",
       "      <td>0</td>\n",
       "      <td>0</td>\n",
       "    </tr>\n",
       "    <tr>\n",
       "      <th>...</th>\n",
       "      <td>...</td>\n",
       "      <td>...</td>\n",
       "      <td>...</td>\n",
       "      <td>...</td>\n",
       "      <td>...</td>\n",
       "      <td>...</td>\n",
       "      <td>...</td>\n",
       "      <td>...</td>\n",
       "      <td>...</td>\n",
       "      <td>...</td>\n",
       "      <td>...</td>\n",
       "    </tr>\n",
       "    <tr>\n",
       "      <th>863</th>\n",
       "      <td>1</td>\n",
       "      <td>1.0</td>\n",
       "      <td>48.0</td>\n",
       "      <td>0</td>\n",
       "      <td>0</td>\n",
       "      <td>25.9292</td>\n",
       "      <td>3.0</td>\n",
       "      <td>0</td>\n",
       "      <td>0</td>\n",
       "      <td>1</td>\n",
       "      <td>1</td>\n",
       "    </tr>\n",
       "    <tr>\n",
       "      <th>882</th>\n",
       "      <td>3</td>\n",
       "      <td>0.0</td>\n",
       "      <td>33.0</td>\n",
       "      <td>0</td>\n",
       "      <td>0</td>\n",
       "      <td>7.8958</td>\n",
       "      <td>7.0</td>\n",
       "      <td>0</td>\n",
       "      <td>0</td>\n",
       "      <td>1</td>\n",
       "      <td>0</td>\n",
       "    </tr>\n",
       "    <tr>\n",
       "      <th>884</th>\n",
       "      <td>2</td>\n",
       "      <td>0.0</td>\n",
       "      <td>28.0</td>\n",
       "      <td>0</td>\n",
       "      <td>0</td>\n",
       "      <td>10.5000</td>\n",
       "      <td>7.0</td>\n",
       "      <td>0</td>\n",
       "      <td>0</td>\n",
       "      <td>1</td>\n",
       "      <td>0</td>\n",
       "    </tr>\n",
       "    <tr>\n",
       "      <th>885</th>\n",
       "      <td>3</td>\n",
       "      <td>0.0</td>\n",
       "      <td>25.0</td>\n",
       "      <td>0</td>\n",
       "      <td>0</td>\n",
       "      <td>7.0500</td>\n",
       "      <td>7.0</td>\n",
       "      <td>0</td>\n",
       "      <td>0</td>\n",
       "      <td>1</td>\n",
       "      <td>0</td>\n",
       "    </tr>\n",
       "    <tr>\n",
       "      <th>886</th>\n",
       "      <td>3</td>\n",
       "      <td>1.0</td>\n",
       "      <td>39.0</td>\n",
       "      <td>0</td>\n",
       "      <td>5</td>\n",
       "      <td>29.1250</td>\n",
       "      <td>7.0</td>\n",
       "      <td>0</td>\n",
       "      <td>1</td>\n",
       "      <td>0</td>\n",
       "      <td>0</td>\n",
       "    </tr>\n",
       "  </tbody>\n",
       "</table>\n",
       "<p>178 rows × 11 columns</p>\n",
       "</div>"
      ],
      "text/plain": [
       "             Pclass  Sex   Age  SibSp  Parch     Fare  Cabin  Embarked_C  \\\n",
       "PassengerId                                                                \n",
       "5                 3  0.0  35.0      0      0   8.0500    7.0           0   \n",
       "13                3  0.0  20.0      0      0   8.0500    7.0           0   \n",
       "22                2  0.0  34.0      0      0  13.0000    3.0           0   \n",
       "24                1  0.0  28.0      0      0  35.5000    0.0           0   \n",
       "31                1  0.0  40.0      0      0  27.7208    7.0           1   \n",
       "...             ...  ...   ...    ...    ...      ...    ...         ...   \n",
       "863               1  1.0  48.0      0      0  25.9292    3.0           0   \n",
       "882               3  0.0  33.0      0      0   7.8958    7.0           0   \n",
       "884               2  0.0  28.0      0      0  10.5000    7.0           0   \n",
       "885               3  0.0  25.0      0      0   7.0500    7.0           0   \n",
       "886               3  1.0  39.0      0      5  29.1250    7.0           0   \n",
       "\n",
       "             Embarked_Q  Embarked_S  Survived  \n",
       "PassengerId                                    \n",
       "5                     0           1         0  \n",
       "13                    0           1         0  \n",
       "22                    0           1         1  \n",
       "24                    0           1         1  \n",
       "31                    0           0         0  \n",
       "...                 ...         ...       ...  \n",
       "863                   0           1         1  \n",
       "882                   0           1         0  \n",
       "884                   0           1         0  \n",
       "885                   0           1         0  \n",
       "886                   1           0         0  \n",
       "\n",
       "[178 rows x 11 columns]"
      ]
     },
     "execution_count": 17,
     "metadata": {},
     "output_type": "execute_result"
    }
   ],
   "source": [
    "train_X = df.sample(frac = 0.8)\n",
    "test_X = df.drop(train_X.index)\n",
    "test_X"
   ]
  },
  {
   "cell_type": "code",
   "execution_count": 18,
   "id": "427b4745",
   "metadata": {},
   "outputs": [
    {
     "name": "stdout",
     "output_type": "stream",
     "text": [
      "Branch on level 1 has df of size: 708\n",
      "Branch on level 2 has df of size: 707\n",
      "Branch on level 3 has df of size: 706\n",
      "Branch on level 3 has df of size: 1\n",
      "Branch on level 2 has df of size: 1\n",
      "Branch on level 1 has df of size: 3\n"
     ]
    },
    {
     "data": {
      "text/plain": [
       "<__main__.DecisionTree at 0x2a637467fb0>"
      ]
     },
     "execution_count": 18,
     "metadata": {},
     "output_type": "execute_result"
    }
   ],
   "source": [
    "# Train the model\n",
    "model = DecisionTree_train(train_X, \"Survived\")\n",
    "model"
   ]
  },
  {
   "cell_type": "code",
   "execution_count": 19,
   "id": "d863d162",
   "metadata": {},
   "outputs": [
    {
     "data": {
      "text/plain": [
       "{0}"
      ]
     },
     "execution_count": 19,
     "metadata": {},
     "output_type": "execute_result"
    }
   ],
   "source": [
    "predictions = DecisionTree_predict(test_X, model)\n",
    "set(predictions)"
   ]
  },
  {
   "cell_type": "code",
   "execution_count": 20,
   "id": "f6ec9e63",
   "metadata": {},
   "outputs": [
    {
     "data": {
      "text/plain": [
       "0.6348314606741573"
      ]
     },
     "execution_count": 20,
     "metadata": {},
     "output_type": "execute_result"
    }
   ],
   "source": [
    "sklearn.metrics.accuracy_score(test_X.Survived, predictions)"
   ]
  },
  {
   "cell_type": "code",
   "execution_count": 21,
   "id": "04412fbb",
   "metadata": {},
   "outputs": [
    {
     "name": "stdout",
     "output_type": "stream",
     "text": [
      "n_levels = 1 accuracy = 0.6348314606741573\n",
      "n_levels = 2 accuracy = 0.6348314606741573\n",
      "n_levels = 3 accuracy = 0.6348314606741573\n",
      "n_levels = 4 accuracy = 0.6348314606741573\n",
      "n_levels = 5 accuracy = 0.6348314606741573\n",
      "n_levels = 6 accuracy = 0.6348314606741573\n",
      "n_levels = 7 accuracy = 0.7921348314606742\n",
      "n_levels = 8 accuracy = 0.7921348314606742\n",
      "n_levels = 9 accuracy = 0.7921348314606742\n",
      "n_levels = 10 accuracy = 0.7921348314606742\n",
      "n_levels = 11 accuracy = 0.7921348314606742\n",
      "n_levels = 12 accuracy = 0.7921348314606742\n",
      "n_levels = 13 accuracy = 0.7921348314606742\n",
      "n_levels = 14 accuracy = 0.7921348314606742\n",
      "n_levels = 15 accuracy = 0.8146067415730337\n"
     ]
    }
   ],
   "source": [
    "for i in range(1, 16):\n",
    "    model = DecisionTree_train(train_X, \"Survived\", n_levels=i, verbose=False)\n",
    "    predictions = DecisionTree_predict(test_X, model)\n",
    "    print(f\"n_levels = {i} accuracy = {sklearn.metrics.accuracy_score(test_X.Survived, predictions)}\")"
   ]
  },
  {
   "cell_type": "code",
   "execution_count": null,
   "id": "69b0c94b",
   "metadata": {},
   "outputs": [
    {
     "name": "stdout",
     "output_type": "stream",
     "text": [
      "n_levels = Not limited, accuracy = 0.8314606741573034\n"
     ]
    }
   ],
   "source": [
    "model = DecisionTree_train(train_X, \"Survived\", n_levels=30, verbose=False) # No limit on n levels\n",
    "predictions = DecisionTree_predict(test_X, model)\n",
    "print(f\"n_levels = 30, accuracy = {sklearn.metrics.accuracy_score(test_X.Survived, predictions)}\")"
   ]
  },
  {
   "cell_type": "code",
   "execution_count": 32,
   "id": "a9c7fe3e",
   "metadata": {},
   "outputs": [
    {
     "name": "stdout",
     "output_type": "stream",
     "text": [
      "n_levels = 50, accuracy = 0.8089887640449438\n"
     ]
    }
   ],
   "source": [
    "model = DecisionTree_train(train_X, \"Survived\", n_levels=50, verbose=False) # No limit on n levels\n",
    "predictions = DecisionTree_predict(test_X, model)\n",
    "print(f\"n_levels = 50, accuracy = {sklearn.metrics.accuracy_score(test_X.Survived, predictions)}\")"
   ]
  },
  {
   "cell_type": "code",
   "execution_count": null,
   "id": "4c26fb4b",
   "metadata": {},
   "outputs": [],
   "source": []
  }
 ],
 "metadata": {
  "kernelspec": {
   "display_name": "base",
   "language": "python",
   "name": "python3"
  },
  "language_info": {
   "codemirror_mode": {
    "name": "ipython",
    "version": 3
   },
   "file_extension": ".py",
   "mimetype": "text/x-python",
   "name": "python",
   "nbconvert_exporter": "python",
   "pygments_lexer": "ipython3",
   "version": "3.12.4"
  }
 },
 "nbformat": 4,
 "nbformat_minor": 5
}
