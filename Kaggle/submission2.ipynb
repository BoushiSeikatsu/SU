{
 "cells": [
  {
   "cell_type": "code",
   "execution_count": 16,
   "metadata": {},
   "outputs": [],
   "source": [
    "import pandas as pd \n",
    "import numpy as np \n",
    "import sklearn.preprocessing\n",
    "import imblearn"
   ]
  },
  {
   "cell_type": "code",
   "execution_count": 17,
   "metadata": {},
   "outputs": [],
   "source": [
    "dfTrain = pd.read_csv(\"train.csv\")\n",
    "dfTest = pd.read_csv(\"test.csv\")\n",
    "testLabels = pd.read_csv(\"submission.csv\")"
   ]
  },
  {
   "cell_type": "code",
   "execution_count": 23,
   "metadata": {},
   "outputs": [],
   "source": [
    "dfTrain\n",
    "X_train, y_train = dfTrain.loc[:, dfTrain.columns[:-1]], dfTrain[\"subscribed\"]\n",
    "X_test = dfTest.loc[:, dfTest.columns]"
   ]
  },
  {
   "cell_type": "code",
   "execution_count": 24,
   "metadata": {},
   "outputs": [],
   "source": [
    "X_train.drop(\"id\", axis=1, inplace=True)\n",
    "X_test.drop(\"id\", axis=1, inplace=True)"
   ]
  },
  {
   "cell_type": "code",
   "execution_count": 9,
   "metadata": {},
   "outputs": [],
   "source": [
    "def sin_transformer(period):\n",
    "\treturn sklearn.preprocessing.FunctionTransformer(lambda x: np.sin(x / period * 2 * np.pi))\n",
    "\n",
    "def cos_transformer(period):\n",
    "\treturn sklearn.preprocessing.FunctionTransformer(lambda x: np.cos(x / period * 2 * np.pi))\n",
    "\n",
    "def encodingPipeline(X_train): # Should just transform for X_test, for now it also fits it\n",
    "    X_category_encoded = pd.get_dummies(X_train, columns=['marital', 'loan', 'housing', 'poutcome'], drop_first=True)\n",
    "    jobEncoder = sklearn.preprocessing.OrdinalEncoder(categories=[[\"unknown\", \"unemployed\", \"student\", \"housemaid\", \"services\", \"admin.\", \"technician\", \"self-employed\", \"retired\", \"entrepreneur\", \"management\", \"blue-collar\"]])\n",
    "    X_category_encoded[\"job\"] = jobEncoder.fit_transform(np.array(X_category_encoded[\"job\"]).reshape(-1, 1))\n",
    "    eduEncoder = sklearn.preprocessing.OrdinalEncoder(categories=[[\"unknown\", \"illiterate\", \"basic.4y\", \"basic.6y\", \"basic.9y\", \"high.school\", \"professional.course\", \"university.degree\"]])\n",
    "    X_category_encoded[\"education\"] = eduEncoder.fit_transform(np.array(X_category_encoded[\"education\"]).reshape(-1, 1))\n",
    "    binaryEncoder = sklearn.preprocessing.OrdinalEncoder()\n",
    "    X_category_encoded[\"contact\"] = binaryEncoder.fit_transform(np.array(X_category_encoded[\"contact\"]).reshape(-1, 1))\n",
    "    monthEncoder = sklearn.preprocessing.OrdinalEncoder(categories=[[\"jan\", \"feb\", \"mar\", \"apr\", \"may\", \"jun\", \"jul\", \"aug\", \"sep\", \"oct\", \"nov\", \"dec\"]])\n",
    "    X_category_encoded[\"month\"] = monthEncoder.fit_transform(np.array(X_category_encoded[\"month\"]).reshape(-1, 1))\n",
    "    dayEncoder = sklearn.preprocessing.OrdinalEncoder(categories=[[\"mon\", \"tue\", \"wed\", \"thu\", \"fri\"]])\n",
    "    X_category_encoded[\"day_of_week\"] = dayEncoder.fit_transform(np.array(X_category_encoded[\"day_of_week\"]).reshape(-1, 1))\n",
    "    X_category_encoded[\"default\"] = binaryEncoder.fit_transform(np.array(X_category_encoded[\"default\"]).reshape(-1, 1))\n",
    "\n",
    "    X_category_encoded[\"month_sin\"] = sin_transformer(12).fit_transform(X_category_encoded)[\"month\"]\n",
    "    X_category_encoded[\"month_cos\"] = cos_transformer(12).fit_transform(X_category_encoded)[\"month\"]\n",
    "\n",
    "    X_category_encoded[\"day_sin\"] = sin_transformer(5).fit_transform(X_category_encoded)[\"day_of_week\"]\n",
    "    X_category_encoded[\"day_cos\"] = cos_transformer(5).fit_transform(X_category_encoded)[\"day_of_week\"]\n",
    "    X_category_encoded.drop(labels=[\"month\", \"day_of_week\"], inplace=True, axis=1)\n",
    "    return X_category_encoded\n",
    "    \n",
    "\n",
    "    "
   ]
  },
  {
   "cell_type": "code",
   "execution_count": 25,
   "metadata": {},
   "outputs": [],
   "source": [
    "categoryCols = X_train.select_dtypes(exclude=np.number).columns\n",
    "binaryEncoder = sklearn.preprocessing.OrdinalEncoder()\n",
    "y_train = binaryEncoder.fit_transform(np.array(y_train).reshape(-1, 1))"
   ]
  },
  {
   "cell_type": "code",
   "execution_count": 30,
   "metadata": {},
   "outputs": [
    {
     "data": {
      "text/plain": [
       "array([0., 0., 0., ..., 0., 0., 0.])"
      ]
     },
     "execution_count": 30,
     "metadata": {},
     "output_type": "execute_result"
    }
   ],
   "source": [
    "y_train.ravel()"
   ]
  },
  {
   "cell_type": "code",
   "execution_count": null,
   "metadata": {},
   "outputs": [],
   "source": [
    "\n",
    "X_train_numeric = X_train.select_dtypes(include=np.number)\n",
    "X_train_encoded = encodingPipeline(X_train[categoryCols])\n",
    "X_train = pd.concat([X_train_numeric, X_train_encoded], axis=1)"
   ]
  },
  {
   "cell_type": "code",
   "execution_count": 26,
   "metadata": {},
   "outputs": [],
   "source": [
    "smotenc = imblearn.over_sampling.SMOTENC(categorical_features=categoryCols, n_jobs=-1)"
   ]
  },
  {
   "cell_type": "code",
   "execution_count": 28,
   "metadata": {},
   "outputs": [
    {
     "name": "stderr",
     "output_type": "stream",
     "text": [
      "d:\\Anaconda\\Lib\\site-packages\\imblearn\\over_sampling\\_smote\\base.py:645: FutureWarning: The parameter `n_jobs` has been deprecated in 0.10 and will be removed in 0.12. You can pass an nearest neighbors estimator where `n_jobs` is already set instead.\n",
      "  warnings.warn(\n"
     ]
    },
    {
     "ename": "ValueError",
     "evalue": "The truth value of an array with more than one element is ambiguous. Use a.any() or a.all()",
     "output_type": "error",
     "traceback": [
      "\u001b[1;31m---------------------------------------------------------------------------\u001b[0m",
      "\u001b[1;31mValueError\u001b[0m                                Traceback (most recent call last)",
      "Cell \u001b[1;32mIn[28], line 1\u001b[0m\n\u001b[1;32m----> 1\u001b[0m X_train_res, y_train_res \u001b[38;5;241m=\u001b[39m smotenc\u001b[38;5;241m.\u001b[39mfit_resample(X_train, y_train\u001b[38;5;241m.\u001b[39mravel())\n",
      "File \u001b[1;32md:\\Anaconda\\Lib\\site-packages\\imblearn\\base.py:208\u001b[0m, in \u001b[0;36mBaseSampler.fit_resample\u001b[1;34m(self, X, y)\u001b[0m\n\u001b[0;32m    187\u001b[0m \u001b[38;5;250m\u001b[39m\u001b[38;5;124;03m\"\"\"Resample the dataset.\u001b[39;00m\n\u001b[0;32m    188\u001b[0m \n\u001b[0;32m    189\u001b[0m \u001b[38;5;124;03mParameters\u001b[39;00m\n\u001b[1;32m   (...)\u001b[0m\n\u001b[0;32m    205\u001b[0m \u001b[38;5;124;03m    The corresponding label of `X_resampled`.\u001b[39;00m\n\u001b[0;32m    206\u001b[0m \u001b[38;5;124;03m\"\"\"\u001b[39;00m\n\u001b[0;32m    207\u001b[0m \u001b[38;5;28mself\u001b[39m\u001b[38;5;241m.\u001b[39m_validate_params()\n\u001b[1;32m--> 208\u001b[0m \u001b[38;5;28;01mreturn\u001b[39;00m \u001b[38;5;28msuper\u001b[39m()\u001b[38;5;241m.\u001b[39mfit_resample(X, y)\n",
      "File \u001b[1;32md:\\Anaconda\\Lib\\site-packages\\imblearn\\base.py:112\u001b[0m, in \u001b[0;36mSamplerMixin.fit_resample\u001b[1;34m(self, X, y)\u001b[0m\n\u001b[0;32m    106\u001b[0m X, y, binarize_y \u001b[38;5;241m=\u001b[39m \u001b[38;5;28mself\u001b[39m\u001b[38;5;241m.\u001b[39m_check_X_y(X, y)\n\u001b[0;32m    108\u001b[0m \u001b[38;5;28mself\u001b[39m\u001b[38;5;241m.\u001b[39msampling_strategy_ \u001b[38;5;241m=\u001b[39m check_sampling_strategy(\n\u001b[0;32m    109\u001b[0m     \u001b[38;5;28mself\u001b[39m\u001b[38;5;241m.\u001b[39msampling_strategy, y, \u001b[38;5;28mself\u001b[39m\u001b[38;5;241m.\u001b[39m_sampling_type\n\u001b[0;32m    110\u001b[0m )\n\u001b[1;32m--> 112\u001b[0m output \u001b[38;5;241m=\u001b[39m \u001b[38;5;28mself\u001b[39m\u001b[38;5;241m.\u001b[39m_fit_resample(X, y)\n\u001b[0;32m    114\u001b[0m y_ \u001b[38;5;241m=\u001b[39m (\n\u001b[0;32m    115\u001b[0m     label_binarize(output[\u001b[38;5;241m1\u001b[39m], classes\u001b[38;5;241m=\u001b[39mnp\u001b[38;5;241m.\u001b[39munique(y)) \u001b[38;5;28;01mif\u001b[39;00m binarize_y \u001b[38;5;28;01melse\u001b[39;00m output[\u001b[38;5;241m1\u001b[39m]\n\u001b[0;32m    116\u001b[0m )\n\u001b[0;32m    118\u001b[0m X_, y_ \u001b[38;5;241m=\u001b[39m arrays_transformer\u001b[38;5;241m.\u001b[39mtransform(output[\u001b[38;5;241m0\u001b[39m], y_)\n",
      "File \u001b[1;32md:\\Anaconda\\Lib\\site-packages\\imblearn\\over_sampling\\_smote\\base.py:653\u001b[0m, in \u001b[0;36mSMOTENC._fit_resample\u001b[1;34m(self, X, y)\u001b[0m\n\u001b[0;32m    645\u001b[0m     warnings\u001b[38;5;241m.\u001b[39mwarn(\n\u001b[0;32m    646\u001b[0m         \u001b[38;5;124m\"\u001b[39m\u001b[38;5;124mThe parameter `n_jobs` has been deprecated in 0.10 and will be \u001b[39m\u001b[38;5;124m\"\u001b[39m\n\u001b[0;32m    647\u001b[0m         \u001b[38;5;124m\"\u001b[39m\u001b[38;5;124mremoved in 0.12. You can pass an nearest neighbors estimator where \u001b[39m\u001b[38;5;124m\"\u001b[39m\n\u001b[0;32m    648\u001b[0m         \u001b[38;5;124m\"\u001b[39m\u001b[38;5;124m`n_jobs` is already set instead.\u001b[39m\u001b[38;5;124m\"\u001b[39m,\n\u001b[0;32m    649\u001b[0m         \u001b[38;5;167;01mFutureWarning\u001b[39;00m,\n\u001b[0;32m    650\u001b[0m     )\n\u001b[0;32m    652\u001b[0m \u001b[38;5;28mself\u001b[39m\u001b[38;5;241m.\u001b[39mn_features_ \u001b[38;5;241m=\u001b[39m _num_features(X)\n\u001b[1;32m--> 653\u001b[0m \u001b[38;5;28mself\u001b[39m\u001b[38;5;241m.\u001b[39m_validate_column_types(X)\n\u001b[0;32m    654\u001b[0m \u001b[38;5;28mself\u001b[39m\u001b[38;5;241m.\u001b[39m_validate_estimator()\n\u001b[0;32m    656\u001b[0m X_continuous \u001b[38;5;241m=\u001b[39m _safe_indexing(X, \u001b[38;5;28mself\u001b[39m\u001b[38;5;241m.\u001b[39mcontinuous_features_, axis\u001b[38;5;241m=\u001b[39m\u001b[38;5;241m1\u001b[39m)\n",
      "File \u001b[1;32md:\\Anaconda\\Lib\\site-packages\\imblearn\\over_sampling\\_smote\\base.py:608\u001b[0m, in \u001b[0;36mSMOTENC._validate_column_types\u001b[1;34m(self, X)\u001b[0m\n\u001b[0;32m    606\u001b[0m \u001b[38;5;28;01mdef\u001b[39;00m \u001b[38;5;21m_validate_column_types\u001b[39m(\u001b[38;5;28mself\u001b[39m, X):\n\u001b[0;32m    607\u001b[0m \u001b[38;5;250m    \u001b[39m\u001b[38;5;124;03m\"\"\"Compute the indices of the categorical and continuous features.\"\"\"\u001b[39;00m\n\u001b[1;32m--> 608\u001b[0m     \u001b[38;5;28;01mif\u001b[39;00m \u001b[38;5;28mself\u001b[39m\u001b[38;5;241m.\u001b[39mcategorical_features \u001b[38;5;241m==\u001b[39m \u001b[38;5;124m\"\u001b[39m\u001b[38;5;124mauto\u001b[39m\u001b[38;5;124m\"\u001b[39m:\n\u001b[0;32m    609\u001b[0m         \u001b[38;5;28;01mif\u001b[39;00m \u001b[38;5;129;01mnot\u001b[39;00m _is_pandas_df(X):\n\u001b[0;32m    610\u001b[0m             \u001b[38;5;28;01mraise\u001b[39;00m \u001b[38;5;167;01mValueError\u001b[39;00m(\n\u001b[0;32m    611\u001b[0m                 \u001b[38;5;124m\"\u001b[39m\u001b[38;5;124mWhen `categorical_features=\u001b[39m\u001b[38;5;124m'\u001b[39m\u001b[38;5;124mauto\u001b[39m\u001b[38;5;124m'\u001b[39m\u001b[38;5;124m`, the input data \u001b[39m\u001b[38;5;124m\"\u001b[39m\n\u001b[0;32m    612\u001b[0m                 \u001b[38;5;124mf\u001b[39m\u001b[38;5;124m\"\u001b[39m\u001b[38;5;124mshould be a pandas.DataFrame. Got \u001b[39m\u001b[38;5;132;01m{\u001b[39;00m\u001b[38;5;28mtype\u001b[39m(X)\u001b[38;5;132;01m}\u001b[39;00m\u001b[38;5;124m instead.\u001b[39m\u001b[38;5;124m\"\u001b[39m\n\u001b[0;32m    613\u001b[0m             )\n",
      "\u001b[1;31mValueError\u001b[0m: The truth value of an array with more than one element is ambiguous. Use a.any() or a.all()"
     ]
    }
   ],
   "source": [
    "X_train_res, y_train_res = smotenc.fit_resample(X_train, y_train.ravel())"
   ]
  },
  {
   "cell_type": "code",
   "execution_count": null,
   "metadata": {},
   "outputs": [],
   "source": []
  }
 ],
 "metadata": {
  "kernelspec": {
   "display_name": "base",
   "language": "python",
   "name": "python3"
  },
  "language_info": {
   "codemirror_mode": {
    "name": "ipython",
    "version": 3
   },
   "file_extension": ".py",
   "mimetype": "text/x-python",
   "name": "python",
   "nbconvert_exporter": "python",
   "pygments_lexer": "ipython3",
   "version": "3.12.4"
  }
 },
 "nbformat": 4,
 "nbformat_minor": 2
}
