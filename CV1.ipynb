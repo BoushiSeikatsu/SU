{
 "cells": [
  {
   "cell_type": "code",
   "execution_count": 1,
   "id": "16d2fa86-dcee-461c-95e6-bf0c765cea52",
   "metadata": {
    "tags": []
   },
   "outputs": [],
   "source": [
    "import numpy as np"
   ]
  },
  {
   "cell_type": "code",
   "execution_count": 9,
   "id": "88b6fd47-f92a-4125-8111-2c18b439e37f",
   "metadata": {
    "tags": []
   },
   "outputs": [],
   "source": [
    "def generate(generations, pool, k):\n",
    "    firstElement = generations[-1]\n",
    "    if len(generations) == k:\n",
    "        print(generations)\n",
    "    for i in range(firstElement, len(pool)):\n",
    "        generations.append(pool[i])\n",
    "        generate(generations, pool, k)\n",
    "        generations.pop()\n",
    "def generateCombination(k,n):\n",
    "    generations = []\n",
    "    pool = list(range(1,n+1))\n",
    "    for i in range(0,n):\n",
    "        generations.append(pool[i])\n",
    "        generate(generations, pool, k)\n",
    "        generations.pop()"
   ]
  },
  {
   "cell_type": "code",
   "execution_count": 8,
   "id": "a6651478-d4d2-4365-b157-26e98fb15695",
   "metadata": {
    "tags": []
   },
   "outputs": [
    {
     "name": "stdout",
     "output_type": "stream",
     "text": [
      "[1]\n",
      "[]\n"
     ]
    }
   ],
   "source": [
    "def test(testList):\n",
    "    print(testList)\n",
    "\n",
    "experiment = []\n",
    "experiment.append(1)\n",
    "test(experiment)\n",
    "experiment.pop()\n",
    "test(experiment)"
   ]
  },
  {
   "cell_type": "code",
   "execution_count": 10,
   "id": "0c25bb8c-3637-42af-98e9-a54698c9b1f6",
   "metadata": {
    "tags": []
   },
   "outputs": [
    {
     "name": "stdout",
     "output_type": "stream",
     "text": [
      "[1, 2, 3]\n",
      "[1, 2, 4]\n",
      "[1, 2, 5]\n",
      "[1, 2, 6]\n",
      "[1, 3, 4]\n",
      "[1, 3, 5]\n",
      "[1, 3, 6]\n",
      "[1, 4, 5]\n",
      "[1, 4, 6]\n",
      "[1, 5, 6]\n",
      "[2, 3, 4]\n",
      "[2, 3, 5]\n",
      "[2, 3, 6]\n",
      "[2, 4, 5]\n",
      "[2, 4, 6]\n",
      "[2, 5, 6]\n",
      "[3, 4, 5]\n",
      "[3, 4, 6]\n",
      "[3, 5, 6]\n",
      "[4, 5, 6]\n"
     ]
    }
   ],
   "source": [
    "generateCombination(3,6)"
   ]
  },
  {
   "cell_type": "code",
   "execution_count": 15,
   "id": "5be68ad2-e96b-4c4f-be72-d690d84ec18d",
   "metadata": {
    "tags": []
   },
   "outputs": [],
   "source": [
    "with open('chess.dat', 'r') as file:\n",
    "    lines = file.readlines()\n",
    "trimmedLines = []\n",
    "with open('chessTrimmed.dat', 'w') as file:\n",
    "    for line in lines:\n",
    "        trimmedLine = line.strip()\n",
    "        file.write(trimmedLine)\n",
    "        file.write('\\n')"
   ]
  },
  {
   "cell_type": "code",
   "execution_count": 2,
   "id": "ea5cbc33-fe62-4706-9fcf-8694d676205f",
   "metadata": {
    "tags": []
   },
   "outputs": [
    {
     "name": "stdout",
     "output_type": "stream",
     "text": [
      "[[ 1  3  5 ... 70 72 74]\n",
      " [ 1  3  5 ... 70 72 74]\n",
      " [ 1  3  5 ... 70 72 74]\n",
      " ...\n",
      " [ 2  4  5 ... 70 73 74]\n",
      " [ 2  4  5 ... 71 73 74]\n",
      " [ 2  4  5 ... 71 73 74]]\n"
     ]
    },
    {
     "data": {
      "text/plain": [
       "37"
      ]
     },
     "execution_count": 2,
     "metadata": {},
     "output_type": "execute_result"
    }
   ],
   "source": [
    "input = np.loadtxt(\"chessTrimmed.dat\", dtype='i', delimiter=' ')\n",
    "print(input)\n",
    "len(input[0])"
   ]
  },
  {
   "cell_type": "code",
   "execution_count": 3,
   "id": "933c4f62-3166-4160-92e0-77f79434f954",
   "metadata": {
    "tags": []
   },
   "outputs": [
    {
     "name": "stdout",
     "output_type": "stream",
     "text": [
      "3196\n",
      "37\n"
     ]
    }
   ],
   "source": [
    "print(len(input))\n",
    "print(len(input[0]))\n",
    "rows = len(input)\n",
    "cols = len(input[0])"
   ]
  },
  {
   "cell_type": "code",
   "execution_count": 4,
   "id": "df59b31e-d7a3-4317-9dd8-2f06dfb31ed4",
   "metadata": {
    "tags": []
   },
   "outputs": [
    {
     "name": "stdout",
     "output_type": "stream",
     "text": [
      "[1, 0, 1, 0, 1, 0, 1, 0, 1, 0, 1, 0, 1, 0, 1, 0, 1, 0, 1, 0, 1, 0, 1, 0, 1, 0, 1, 0, 1, 0, 1, 0, 0, 1, 0, 1, 0, 1, 0, 1, 0, 1, 0, 1, 0, 1, 0, 1, 0, 1, 0, 1, 0, 1, 0, 1, 0, 1, 0, 1, 0, 1, 0, 1, 0, 1, 0, 1, 0, 1, 0, 1, 0, 1, 0]\n"
     ]
    }
   ],
   "source": [
    "matrix = []\n",
    "for i in range(0,rows):\n",
    "    matrix.append([])\n",
    "    k = 0\n",
    "    for j in range(1,76):\n",
    "        if input[i][k] == j:\n",
    "            matrix[i].append(1)\n",
    "            if k != 36: \n",
    "                k += 1\n",
    "        else:\n",
    "            matrix[i].append(0)\n",
    "print(matrix[0])"
   ]
  },
  {
   "cell_type": "code",
   "execution_count": 5,
   "id": "6b98be30-02ef-442b-bc8e-d12e4d453d5c",
   "metadata": {
    "tags": []
   },
   "outputs": [],
   "source": [
    "def getSupport(combination, matrix):\n",
    "    occurences = 0\n",
    "    resultAnd = 1\n",
    "    for row in matrix:\n",
    "        for i in combination:\n",
    "            resultAnd *= row[i - 1]\n",
    "        if(resultAnd == 1):\n",
    "            occurences += 1\n",
    "        resultAnd = 1\n",
    "    return occurences/len(matrix)\n",
    "\n",
    "def getConfidence(X, Y, matrix):\n",
    "    united = X + Y\n",
    "    united.sort()\n",
    "    return getSupport(united,matrix)/getSupport(X,matrix)\n",
    "\n",
    "def generate(generations, pool, k, matrix, minSupport = 0.25, minConfidence = 0.5):\n",
    "    firstElement = generations[-1]\n",
    "    if len(generations) == k:\n",
    "        print(generations)\n",
    "        return False\n",
    "    support = getSupport(generations, matrix)\n",
    "    if support <= minSupport:\n",
    "        #print(f\"Generace {generations} měla support {support} a byla breaknuta\")\n",
    "        return False\n",
    "    for i in range(firstElement, len(pool)):\n",
    "        generations.append(pool[i])\n",
    "        generate(generations, pool, k, matrix)\n",
    "        generations.pop()\n",
    "        \n",
    "def generateCombination(k,n, matrix, minSupport = 0.25, minConfidence = 0.5):\n",
    "    generations = []\n",
    "    pool = list(range(1,n+1))\n",
    "    for i in range(0,n):\n",
    "        generations.append(pool[i])\n",
    "        generate(generations, pool, k, matrix)\n",
    "        generations.pop()"
   ]
  },
  {
   "cell_type": "code",
   "execution_count": 6,
   "id": "281c94b7-6b92-454b-b190-1fe5d4f230d7",
   "metadata": {
    "tags": []
   },
   "outputs": [
    {
     "data": {
      "text/plain": [
       "0.4305381727158949"
      ]
     },
     "execution_count": 6,
     "metadata": {},
     "output_type": "execute_result"
    }
   ],
   "source": [
    "getSupport([1, 3, 5], matrix)"
   ]
  },
  {
   "cell_type": "code",
   "execution_count": null,
   "id": "08b219a7-a7dd-4ff9-9c15-cda02f6cab73",
   "metadata": {
    "tags": []
   },
   "outputs": [],
   "source": [
    "generateCombination(4,75, matrix)\n",
    "#for i in range(1,6):\n",
    "    #generateCombination(i,75, matrix)"
   ]
  },
  {
   "cell_type": "code",
   "execution_count": null,
   "id": "ffe42500-52db-4d7b-babf-d00bb5378abe",
   "metadata": {},
   "outputs": [],
   "source": []
  }
 ],
 "metadata": {
  "kernelspec": {
   "display_name": "Python 3 (ipykernel)",
   "language": "python",
   "name": "python3"
  },
  "language_info": {
   "codemirror_mode": {
    "name": "ipython",
    "version": 3
   },
   "file_extension": ".py",
   "mimetype": "text/x-python",
   "name": "python",
   "nbconvert_exporter": "python",
   "pygments_lexer": "ipython3",
   "version": "3.10.9"
  }
 },
 "nbformat": 4,
 "nbformat_minor": 5
}
