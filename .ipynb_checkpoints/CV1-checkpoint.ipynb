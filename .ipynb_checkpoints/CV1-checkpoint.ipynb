{
 "cells": [
  {
   "cell_type": "code",
   "execution_count": 1,
   "id": "16d2fa86-dcee-461c-95e6-bf0c765cea52",
   "metadata": {
    "tags": []
   },
   "outputs": [],
   "source": [
    "import numpy as np"
   ]
  },
  {
   "cell_type": "code",
   "execution_count": 9,
   "id": "88b6fd47-f92a-4125-8111-2c18b439e37f",
   "metadata": {
    "tags": []
   },
   "outputs": [],
   "source": [
    "def generate(generations, pool, k):\n",
    "    firstElement = generations[-1]\n",
    "    if len(generations) == k:\n",
    "        print(generations)\n",
    "    for i in range(firstElement, len(pool)):\n",
    "        generations.append(pool[i])\n",
    "        generate(generations, pool, k)\n",
    "        generations.pop()\n",
    "def generateCombination(k,n):\n",
    "    generations = []\n",
    "    pool = list(range(1,n+1))\n",
    "    for i in range(0,n):\n",
    "        generations.append(pool[i])\n",
    "        generate(generations, pool, k)\n",
    "        generations.pop()"
   ]
  },
  {
   "cell_type": "code",
   "execution_count": 8,
   "id": "a6651478-d4d2-4365-b157-26e98fb15695",
   "metadata": {
    "tags": []
   },
   "outputs": [
    {
     "name": "stdout",
     "output_type": "stream",
     "text": [
      "[1]\n",
      "[]\n"
     ]
    }
   ],
   "source": [
    "def test(testList):\n",
    "    print(testList)\n",
    "\n",
    "experiment = []\n",
    "experiment.append(1)\n",
    "test(experiment)\n",
    "experiment.pop()\n",
    "test(experiment)"
   ]
  },
  {
   "cell_type": "code",
   "execution_count": 10,
   "id": "0c25bb8c-3637-42af-98e9-a54698c9b1f6",
   "metadata": {
    "tags": []
   },
   "outputs": [
    {
     "name": "stdout",
     "output_type": "stream",
     "text": [
      "[1, 2, 3]\n",
      "[1, 2, 4]\n",
      "[1, 2, 5]\n",
      "[1, 2, 6]\n",
      "[1, 3, 4]\n",
      "[1, 3, 5]\n",
      "[1, 3, 6]\n",
      "[1, 4, 5]\n",
      "[1, 4, 6]\n",
      "[1, 5, 6]\n",
      "[2, 3, 4]\n",
      "[2, 3, 5]\n",
      "[2, 3, 6]\n",
      "[2, 4, 5]\n",
      "[2, 4, 6]\n",
      "[2, 5, 6]\n",
      "[3, 4, 5]\n",
      "[3, 4, 6]\n",
      "[3, 5, 6]\n",
      "[4, 5, 6]\n"
     ]
    }
   ],
   "source": [
    "generateCombination(3,6)"
   ]
  },
  {
   "cell_type": "code",
   "execution_count": 15,
   "id": "5be68ad2-e96b-4c4f-be72-d690d84ec18d",
   "metadata": {
    "tags": []
   },
   "outputs": [],
   "source": [
    "with open('chess.dat', 'r') as file:\n",
    "    lines = file.readlines()\n",
    "trimmedLines = []\n",
    "with open('chessTrimmed.dat', 'w') as file:\n",
    "    for line in lines:\n",
    "        trimmedLine = line.strip()\n",
    "        file.write(trimmedLine)\n",
    "        file.write('\\n')"
   ]
  },
  {
   "cell_type": "code",
   "execution_count": 2,
   "id": "ea5cbc33-fe62-4706-9fcf-8694d676205f",
   "metadata": {
    "tags": []
   },
   "outputs": [
    {
     "name": "stdout",
     "output_type": "stream",
     "text": [
      "[[ 1  3  5 ... 70 72 74]\n",
      " [ 1  3  5 ... 70 72 74]\n",
      " [ 1  3  5 ... 70 72 74]\n",
      " ...\n",
      " [ 2  4  5 ... 70 73 74]\n",
      " [ 2  4  5 ... 71 73 74]\n",
      " [ 2  4  5 ... 71 73 74]]\n"
     ]
    },
    {
     "data": {
      "text/plain": [
       "37"
      ]
     },
     "execution_count": 2,
     "metadata": {},
     "output_type": "execute_result"
    }
   ],
   "source": [
    "input = np.loadtxt(\"chessTrimmed.dat\", dtype='i', delimiter=' ')\n",
    "print(input)\n",
    "len(input[0])"
   ]
  },
  {
   "cell_type": "code",
   "execution_count": 4,
   "id": "933c4f62-3166-4160-92e0-77f79434f954",
   "metadata": {
    "tags": []
   },
   "outputs": [
    {
     "name": "stdout",
     "output_type": "stream",
     "text": [
      "3196\n",
      "37\n"
     ]
    }
   ],
   "source": [
    "print(len(input))\n",
    "print(len(input[0]))\n",
    "rows = len(input)\n",
    "cols = len(input[0])"
   ]
  },
  {
   "cell_type": "code",
   "execution_count": 5,
   "id": "df59b31e-d7a3-4317-9dd8-2f06dfb31ed4",
   "metadata": {
    "tags": []
   },
   "outputs": [
    {
     "name": "stdout",
     "output_type": "stream",
     "text": [
      "[1, 0, 1, 0, 1, 0, 1, 0, 1, 0, 1, 0, 1, 0, 1, 0, 1, 0, 1, 0, 1, 0, 1, 0, 1, 0, 1, 0, 1, 0, 1, 0, 0, 1, 0, 1, 0, 1, 0, 1, 0, 1, 0, 1, 0, 1, 0, 1, 0, 1, 0, 1, 0, 1, 0, 1, 0, 1, 0, 1, 0, 1, 0, 1, 0, 1, 0, 1, 0, 1, 0, 1, 0, 1, 0]\n"
     ]
    }
   ],
   "source": [
    "matrix = []\n",
    "for i in range(0,rows):\n",
    "    matrix.append([])\n",
    "    k = 0\n",
    "    for j in range(1,76):\n",
    "        if input[i][k] == j:\n",
    "            matrix[i].append(1)\n",
    "            if k != 36: \n",
    "                k += 1\n",
    "        else:\n",
    "            matrix[i].append(0)\n",
    "print(matrix[0])"
   ]
  },
  {
   "cell_type": "code",
   "execution_count": 62,
   "id": "6b98be30-02ef-442b-bc8e-d12e4d453d5c",
   "metadata": {
    "tags": []
   },
   "outputs": [],
   "source": [
    "def getSupport(combination, matrix):\n",
    "    occurences = 0\n",
    "    resultAnd = 1\n",
    "    for row in matrix:\n",
    "        for i in combination:\n",
    "            resultAnd *= row[i - 1]\n",
    "        if(resultAnd == 1):\n",
    "            occurences += 1\n",
    "        resultAnd = 1\n",
    "    return occurences/len(matrix)\n",
    "\n",
    "def getConfidence(X, Y, matrix):\n",
    "    united = X + Y\n",
    "    united.sort()\n",
    "    return getSupport(united,matrix)/getSupport(X,matrix)\n",
    "\n",
    "def generate(generations, pool, k, matrix, minSupport = 0.25, minConfidence = 0.5):\n",
    "    firstElement = generations[-1]\n",
    "    allCombinations = []\n",
    "    if len(generations) == k:\n",
    "        #print(generations)\n",
    "        return generations\n",
    "    support = getSupport(generations, matrix)\n",
    "    if support <= minSupport:\n",
    "        print(f\"Generace {generations} měla support {support} a byla breaknuta\")\n",
    "        return []\n",
    "    for i in range(firstElement, len(pool)):\n",
    "        generations.append(pool[i])\n",
    "        allCombinations += generate(generations, pool, k, matrix, minSupport, minConfidence)\n",
    "        generations.pop()\n",
    "    return allCombinations\n",
    "        \n",
    "def generateCombination(k,n, matrix, minSupport = 0.25, minConfidence = 0.5):\n",
    "    generations = []\n",
    "    allCombinations = []\n",
    "    pool = list(range(1,n+1))\n",
    "    for i in range(0,n):\n",
    "        generations.append(pool[i])\n",
    "        allCombinations += generate(generations, pool, k, matrix, minSupport, minConfidence)\n",
    "        generations.pop()\n",
    "    return np.array_split(allCombinations,len(allCombinations)/k)\n",
    "\n",
    "def showConfidence(combinations, matrix, minConfidence):\n",
    "    Y = combinations.pop()\n",
    "    confidence = getConfidence(combinations,[Y],matrix)\n",
    "    if(confidence >= minConfidence): \n",
    "        print(f\"{combinations} -> {Y}: Confidence: {confidence}\")\n",
    "        \n",
    "def getAdjacencyMatrix(input, maxValue):\n",
    "    rows = len(input)\n",
    "    matrix = []\n",
    "    for i in range(0,rows):\n",
    "        matrix.append([])\n",
    "        k = 0\n",
    "        for j in range(1,maxValue + 1):\n",
    "            cols = len(input[i])\n",
    "            if input[i][k] == j:\n",
    "                matrix[i].append(1)\n",
    "                if k != cols - 1: \n",
    "                    k += 1\n",
    "            else:\n",
    "                matrix[i].append(0)\n",
    "    return matrix"
   ]
  },
  {
   "cell_type": "code",
   "execution_count": 6,
   "id": "281c94b7-6b92-454b-b190-1fe5d4f230d7",
   "metadata": {
    "tags": []
   },
   "outputs": [
    {
     "data": {
      "text/plain": [
       "0.4305381727158949"
      ]
     },
     "execution_count": 6,
     "metadata": {},
     "output_type": "execute_result"
    }
   ],
   "source": [
    "getSupport([1, 3, 5], matrix)"
   ]
  },
  {
   "cell_type": "code",
   "execution_count": 54,
   "id": "08b219a7-a7dd-4ff9-9c15-cda02f6cab73",
   "metadata": {
    "tags": []
   },
   "outputs": [
    {
     "name": "stdout",
     "output_type": "stream",
     "text": [
      "Min support: 0.25, Min confidence: 0.5\n",
      "Počet 1-prvkových vzorů: 10\n",
      "Počet 2-prvkových vzorů: 33\n",
      "[1] -> 3: Confidence: 0.8879568603954464\n",
      "[1] -> 5: Confidence: 0.9286998202516477\n",
      "[1] -> 7: Confidence: 0.9790293588975434\n",
      "[1] -> 9: Confidence: 0.9029358897543438\n",
      "[2] -> 3: Confidence: 0.8886705959397512\n",
      "[2] -> 5: Confidence: 0.9305828421741978\n",
      "[2] -> 7: Confidence: 0.9443352979698756\n",
      "[2] -> 9: Confidence: 0.8952193844138834\n",
      "[3] -> 5: Confidence: 0.9295526593871081\n",
      "[3] -> 7: Confidence: 0.97393448397323\n",
      "[3] -> 9: Confidence: 0.9056005635787249\n",
      "[5] -> 7: Confidence: 0.9623022551329519\n",
      "[5] -> 9: Confidence: 0.9030629417704475\n",
      "[7] -> 9: Confidence: 0.8956436931079323\n",
      "Počet 3-prvkových vzorů: 46\n",
      "[1, 3] -> 5: Confidence: 0.9284750337381916\n",
      "[1, 3] -> 7: Confidence: 0.9811066126855601\n",
      "[1, 3] -> 9: Confidence: 0.9021592442645074\n",
      "[1, 5] -> 7: Confidence: 0.9800000000000001\n",
      "[1, 5] -> 9: Confidence: 0.9096774193548387\n",
      "[1, 7] -> 9: Confidence: 0.9008567931456549\n",
      "[2, 3] -> 5: Confidence: 0.9307295504789977\n",
      "[2, 3] -> 7: Confidence: 0.9661016949152541\n",
      "[2, 3] -> 9: Confidence: 0.9093588798820929\n",
      "[2, 5] -> 7: Confidence: 0.9429978888106967\n",
      "[2, 5] -> 9: Confidence: 0.8958479943701619\n",
      "[2, 7] -> 9: Confidence: 0.8897364771151178\n",
      "[3, 5] -> 7: Confidence: 0.9730958696475938\n",
      "[3, 5] -> 9: Confidence: 0.9082985979537703\n",
      "[3, 7] -> 9: Confidence: 0.9034358047016274\n",
      "[5, 7] -> 9: Confidence: 0.8996152500874431\n"
     ]
    }
   ],
   "source": [
    "#allCombinations = generateCombination(3,10, matrix)\n",
    "print(f\"Min support: 0.25, Min confidence: 0.5\")\n",
    "for i in range(1,4):\n",
    "    allCombinations = generateCombination(i,10, matrix)\n",
    "    print(f\"Počet {i}-prvkových vzorů: {len(allCombinations)}\")\n",
    "    if i != 1:\n",
    "        for combination in allCombinations:\n",
    "            showConfidence(combination.tolist(), matrix)\n",
    "#for array in allCombinations:\n",
    "    #print(array)"
   ]
  },
  {
   "cell_type": "code",
   "execution_count": 44,
   "id": "ffe42500-52db-4d7b-babf-d00bb5378abe",
   "metadata": {
    "tags": []
   },
   "outputs": [],
   "source": [
    "listOfItems = []\n",
    "with open(\"itemsets_test.dat\", \"r\") as file:\n",
    "    for line in file:\n",
    "        x = [int(i) for i in line.split()]\n",
    "        listOfItems.append(x)"
   ]
  },
  {
   "cell_type": "code",
   "execution_count": 45,
   "id": "c4c83f8b-1a73-438c-a4b0-bad21ce74db1",
   "metadata": {
    "tags": []
   },
   "outputs": [
    {
     "data": {
      "text/plain": [
       "[[1, 2, 5],\n",
       " [1, 4, 5],\n",
       " [1, 3],\n",
       " [2, 3, 4],\n",
       " [2, 3, 5],\n",
       " [4, 5],\n",
       " [1, 3, 4, 5],\n",
       " [1, 2, 5],\n",
       " [1, 3, 5],\n",
       " [1]]"
      ]
     },
     "execution_count": 45,
     "metadata": {},
     "output_type": "execute_result"
    }
   ],
   "source": [
    "listOfItems"
   ]
  },
  {
   "cell_type": "code",
   "execution_count": 48,
   "id": "51d0d62d-4804-4ee8-b389-e77f0aca1e0d",
   "metadata": {
    "tags": []
   },
   "outputs": [],
   "source": [
    "testMatrix = getAdjacencyMatrix(listOfItems,5)"
   ]
  },
  {
   "cell_type": "code",
   "execution_count": 65,
   "id": "86efe461-3d79-486e-b247-f2125905813e",
   "metadata": {
    "tags": []
   },
   "outputs": [
    {
     "name": "stdout",
     "output_type": "stream",
     "text": [
      "Min support: 0.15, Min confidence: 0.1\n",
      "Počet 1-prvkových vzorů: 5, kombinace: [array([1]), array([2]), array([3]), array([4]), array([5])]\n",
      "Počet 2-prvkových vzorů: 10, kombinace: [array([1, 2]), array([1, 3]), array([1, 4]), array([1, 5]), array([2, 3]), array([2, 4]), array([2, 5]), array([3, 4]), array([3, 5]), array([4, 5])]\n",
      "[1] -> 2: Confidence: 0.28571428571428575\n",
      "[1] -> 3: Confidence: 0.4285714285714286\n",
      "[1] -> 4: Confidence: 0.28571428571428575\n",
      "[1] -> 5: Confidence: 0.7142857142857143\n",
      "[2] -> 3: Confidence: 0.5\n",
      "[2] -> 4: Confidence: 0.25\n",
      "[2] -> 5: Confidence: 0.7499999999999999\n",
      "[3] -> 4: Confidence: 0.4\n",
      "[3] -> 5: Confidence: 0.6\n",
      "[4] -> 5: Confidence: 0.7499999999999999\n",
      "Počet 3-prvkových vzorů: 10, kombinace: [array([1, 2, 3]), array([1, 2, 4]), array([1, 2, 5]), array([1, 3, 4]), array([1, 3, 5]), array([1, 4, 5]), array([2, 3, 4]), array([2, 3, 5]), array([2, 4, 5]), array([3, 4, 5])]\n",
      "[1, 2] -> 5: Confidence: 1.0\n",
      "[1, 3] -> 4: Confidence: 0.33333333333333337\n",
      "[1, 3] -> 5: Confidence: 0.6666666666666667\n",
      "[1, 4] -> 5: Confidence: 1.0\n",
      "[2, 3] -> 4: Confidence: 0.5\n",
      "[2, 3] -> 5: Confidence: 0.5\n",
      "[3, 4] -> 5: Confidence: 0.5\n"
     ]
    }
   ],
   "source": [
    "minSupport = 0.15\n",
    "minConfidence = 0.1\n",
    "print(f\"Min support: {minSupport}, Min confidence: {minConfidence}\")\n",
    "for i in range(1,4):\n",
    "    allCombinations = generateCombination(i,5, testMatrix, minSupport, minConfidence)\n",
    "    print(f\"Počet {i}-prvkových vzorů: {len(allCombinations)}, kombinace: {allCombinations}\")\n",
    "    if i != 1:\n",
    "        for combination in allCombinations:\n",
    "            showConfidence(combination.tolist(), testMatrix, minConfidence)"
   ]
  },
  {
   "cell_type": "code",
   "execution_count": null,
   "id": "1b3570d7-def4-407d-9c62-ab255963b6d9",
   "metadata": {},
   "outputs": [],
   "source": []
  }
 ],
 "metadata": {
  "kernelspec": {
   "display_name": "Python 3 (ipykernel)",
   "language": "python",
   "name": "python3"
  },
  "language_info": {
   "codemirror_mode": {
    "name": "ipython",
    "version": 3
   },
   "file_extension": ".py",
   "mimetype": "text/x-python",
   "name": "python",
   "nbconvert_exporter": "python",
   "pygments_lexer": "ipython3",
   "version": "3.10.9"
  }
 },
 "nbformat": 4,
 "nbformat_minor": 5
}
