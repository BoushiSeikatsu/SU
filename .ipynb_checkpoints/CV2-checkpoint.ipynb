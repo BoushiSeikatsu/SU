{
 "cells": [
  {
   "cell_type": "code",
   "execution_count": null,
   "id": "80890740-9c57-4921-8dcc-b3c9fd47f676",
   "metadata": {},
   "outputs": [],
   "source": []
  }
 ],
 "metadata": {
  "kernelspec": {
   "display_name": "Python 3 (ipykernel)",
   "language": "python",
   "name": "python3"
  },
  "language_info": {
   "name": ""
  }
 },
 "nbformat": 4,
 "nbformat_minor": 5
}
